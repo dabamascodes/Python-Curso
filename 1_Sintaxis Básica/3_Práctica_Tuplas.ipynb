{
 "cells": [
  {
   "cell_type": "markdown",
   "metadata": {},
   "source": [
    "TUPLAS ()\n",
    "\n",
    "Las tuplas son listas INMUTABLES, es decir, no se pueden modificar después\n",
    "de su creación:\n",
    "\n",
    "\t* No permiten añadir, eliminar, mover elementos etc., (no append, extend, remove).\n",
    "\t* Si permiten extraer porciones, pero el resultado de la extracción es una tupla nueva.\n",
    "\t* No permiten búsquedas (no index).\n",
    "\t* Si permiten comprobar si un elemento se encuentra en la tupla.\n",
    "\n",
    "Las tuplas respecto a las listas:\n",
    "\n",
    "\t* Más rápidas.\n",
    "\t* Menos espacio (mayor optimización).\n",
    "\t* Formatean Strings.\n",
    "\t* PUEDEN UTILIZARSE COMO CLAVES EN UN DICCIONARIO. (las listas no)."
   ]
  },
  {
   "cell_type": "code",
   "execution_count": 8,
   "metadata": {},
   "outputs": [
    {
     "name": "stdout",
     "output_type": "stream",
     "text": [
      "13\n"
     ]
    }
   ],
   "source": [
    "mitupla=(\"Juan\", 13,1,1987)\n",
    "\n",
    "print(mitupla[1])"
   ]
  },
  {
   "cell_type": "code",
   "execution_count": 9,
   "metadata": {},
   "outputs": [
    {
     "name": "stdout",
     "output_type": "stream",
     "text": [
      "['Juan', 13, 1, 1987]\n",
      "('Juan', 13, 1, 1987)\n"
     ]
    }
   ],
   "source": [
    "milista=list(mitupla)\n",
    "\n",
    "print(milista)\n",
    "print(mitupla)"
   ]
  },
  {
   "cell_type": "code",
   "execution_count": 10,
   "metadata": {},
   "outputs": [
    {
     "name": "stdout",
     "output_type": "stream",
     "text": [
      "['Daniel', 6, 9, 1987]\n",
      "('Daniel', 6, 9, 1987)\n"
     ]
    }
   ],
   "source": [
    "milista1=[\"Daniel\",6,9,1987]\n",
    "\n",
    "mitupla1=tuple(milista1)\n",
    "print(milista1)\n",
    "print(mitupla1)"
   ]
  },
  {
   "cell_type": "code",
   "execution_count": 11,
   "metadata": {},
   "outputs": [
    {
     "name": "stdout",
     "output_type": "stream",
     "text": [
      "True\n",
      "1\n",
      "4\n"
     ]
    }
   ],
   "source": [
    "print(\"Daniel\" in mitupla1)\n",
    "print(mitupla1.count(\"Daniel\"))\n",
    "print(len(mitupla1))"
   ]
  },
  {
   "cell_type": "code",
   "execution_count": 12,
   "metadata": {},
   "outputs": [
    {
     "name": "stdout",
     "output_type": "stream",
     "text": [
      "1\n"
     ]
    }
   ],
   "source": [
    "#Tupla unitaria\n",
    "mitupla2=(\"Barraza\",)\n",
    "print(len(mitupla2))"
   ]
  },
  {
   "cell_type": "code",
   "execution_count": 13,
   "metadata": {},
   "outputs": [
    {
     "name": "stdout",
     "output_type": "stream",
     "text": [
      "('México', 21, 9, 1821)\n"
     ]
    }
   ],
   "source": [
    "#Empaquetado de tupla\n",
    "mitupla3=\"México\",21,9,1821\n",
    "print(mitupla3)"
   ]
  },
  {
   "cell_type": "code",
   "execution_count": 14,
   "metadata": {},
   "outputs": [
    {
     "name": "stdout",
     "output_type": "stream",
     "text": [
      "México\n",
      "1821\n",
      "9\n",
      "21\n"
     ]
    }
   ],
   "source": [
    "#Desempaquetado de Tuplas\n",
    "nombre, dia, mes, agno = mitupla3\n",
    "print(nombre)\n",
    "print(agno)\n",
    "print(mes)\n",
    "print(dia)"
   ]
  },
  {
   "cell_type": "code",
   "execution_count": null,
   "metadata": {},
   "outputs": [],
   "source": []
  }
 ],
 "metadata": {
  "kernelspec": {
   "display_name": "Python 3",
   "language": "python",
   "name": "python3"
  },
  "language_info": {
   "codemirror_mode": {
    "name": "ipython",
    "version": 3
   },
   "file_extension": ".py",
   "mimetype": "text/x-python",
   "name": "python",
   "nbconvert_exporter": "python",
   "pygments_lexer": "ipython3",
   "version": "3.7.4"
  }
 },
 "nbformat": 4,
 "nbformat_minor": 2
}

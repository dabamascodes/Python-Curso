{
 "cells": [
  {
   "cell_type": "markdown",
   "metadata": {},
   "source": [
    "DICCIONARIOS {}\n",
    "\n",
    "Estructura de datos que nos permite almacenar valores de diferente tipo\n",
    "(enteros, cadenas de texto, decimales) e incluso listas y otros diccionarios.\n",
    "\n",
    "La principal característica de los diccionarios es que los datos se almacenan\n",
    "asociados a una clave de tal forma que se crea una asociación de tipo\n",
    "CLAVE : VALOR para cada elemento almacenado.\n",
    "\n",
    "Los elementos almacenados no están ordenados. El orden es indiferente\n",
    "a la hora de almacenar información en un diccionario."
   ]
  },
  {
   "cell_type": "code",
   "execution_count": 1,
   "metadata": {},
   "outputs": [],
   "source": [
    "midiccionario={\"Alemania\":\"Berlín\",\"Francia\":\"París\",\"Reino Unido\":\"Londres\",\"España\":\"Madrid\"}"
   ]
  },
  {
   "cell_type": "code",
   "execution_count": 2,
   "metadata": {},
   "outputs": [
    {
     "name": "stdout",
     "output_type": "stream",
     "text": [
      "París\n",
      "Madrid\n",
      "{'Alemania': 'Berlín', 'Francia': 'París', 'Reino Unido': 'Londres', 'España': 'Madrid'}\n"
     ]
    }
   ],
   "source": [
    "print(midiccionario[\"Francia\"])\n",
    "print(midiccionario[\"España\"])\n",
    "print(midiccionario)"
   ]
  },
  {
   "cell_type": "code",
   "execution_count": 3,
   "metadata": {},
   "outputs": [
    {
     "name": "stdout",
     "output_type": "stream",
     "text": [
      "{'Alemania': 'Berlín', 'Francia': 'París', 'Reino Unido': 'Londres', 'España': 'Madrid', 'Italia': 'Lisboa'}\n",
      "{'Alemania': 'Berlín', 'Francia': 'París', 'Reino Unido': 'Londres', 'España': 'Madrid', 'Italia': 'Roma'}\n"
     ]
    }
   ],
   "source": [
    "midiccionario[\"Italia\"]=\"Lisboa\"\n",
    "print(midiccionario)\n",
    "midiccionario[\"Italia\"]=\"Roma\"\n",
    "print(midiccionario)"
   ]
  },
  {
   "cell_type": "code",
   "execution_count": 4,
   "metadata": {},
   "outputs": [
    {
     "name": "stdout",
     "output_type": "stream",
     "text": [
      "{'Alemania': 'Berlín', 'Francia': 'París', 'España': 'Madrid', 'Italia': 'Roma'}\n"
     ]
    }
   ],
   "source": [
    "del midiccionario[\"Reino Unido\"]\n",
    "print(midiccionario)"
   ]
  },
  {
   "cell_type": "code",
   "execution_count": 5,
   "metadata": {},
   "outputs": [
    {
     "name": "stdout",
     "output_type": "stream",
     "text": [
      "{'Alemania': 'Berlín', 23: 'Jordan', 'Mosqueteros': 3}\n"
     ]
    }
   ],
   "source": [
    "midiccionario={\"Alemania\":\"Berlín\", 23:\"Jordan\",\"Mosqueteros\":3}\n",
    "print(midiccionario)"
   ]
  },
  {
   "cell_type": "code",
   "execution_count": 6,
   "metadata": {},
   "outputs": [
    {
     "name": "stdout",
     "output_type": "stream",
     "text": [
      "{'España': 'Madrid', 'Francia': 'Paris', 'Reino Unido': 'Londres', 'Alemania': 'Berlín'}\n",
      "Paris\n",
      "Londres\n"
     ]
    }
   ],
   "source": [
    "mitupla=[\"España\",\"Francia\",\"Reino Unido\",\"Alemania\"]\n",
    "midiccionario1={mitupla[0]:\"Madrid\",mitupla[1]:\"Paris\",mitupla[2]:\"Londres\",mitupla[3]:\"Berlín\"}\n",
    "print(midiccionario1)\n",
    "print(midiccionario1[\"Francia\"])\n",
    "print(midiccionario1[mitupla[2]])"
   ]
  },
  {
   "cell_type": "code",
   "execution_count": 7,
   "metadata": {},
   "outputs": [
    {
     "name": "stdout",
     "output_type": "stream",
     "text": [
      "{23: 'Jordan', 'Nombre': 'Michael', 'Equipo': 'Chicago', 'anillos': [1991, 1992, 1993, 1996, 1997, 1998]}\n",
      "Chicago\n",
      "[1991, 1992, 1993, 1996, 1997, 1998]\n"
     ]
    }
   ],
   "source": [
    "midiccionario2={23:\"Jordan\",\"Nombre\":\"Michael\",\"Equipo\":\"Chicago\",\"anillos\":[1991,1992,1993,1996,1997,1998]}\n",
    "print(midiccionario2)\n",
    "print(midiccionario2[\"Equipo\"])\n",
    "print(midiccionario2[\"anillos\"])"
   ]
  },
  {
   "cell_type": "code",
   "execution_count": 8,
   "metadata": {},
   "outputs": [],
   "source": [
    "midiccionario3={23:\"Jordan\",\"Nombre\":\"Michael\",\"Equipo\":\"Chicago\",\"anillos\":{\"temporadas\":[1991,1992,1993,1996,1997,1998]}}"
   ]
  },
  {
   "cell_type": "code",
   "execution_count": 9,
   "metadata": {},
   "outputs": [
    {
     "name": "stdout",
     "output_type": "stream",
     "text": [
      "{'temporadas': [1991, 1992, 1993, 1996, 1997, 1998]}\n",
      "{23: 'Jordan', 'Nombre': 'Michael', 'Equipo': 'Chicago', 'anillos': {'temporadas': [1991, 1992, 1993, 1996, 1997, 1998]}}\n",
      "dict_keys([23, 'Nombre', 'Equipo', 'anillos'])\n",
      "dict_values(['Jordan', 'Michael', 'Chicago', {'temporadas': [1991, 1992, 1993, 1996, 1997, 1998]}])\n",
      "4\n"
     ]
    }
   ],
   "source": [
    "print(midiccionario3[\"anillos\"])\n",
    "print(midiccionario3)\n",
    "print(midiccionario3.keys())\n",
    "print(midiccionario3.values())\n",
    "print(len(midiccionario3))"
   ]
  },
  {
   "cell_type": "code",
   "execution_count": null,
   "metadata": {},
   "outputs": [],
   "source": []
  }
 ],
 "metadata": {
  "kernelspec": {
   "display_name": "Python 3",
   "language": "python",
   "name": "python3"
  },
  "language_info": {
   "codemirror_mode": {
    "name": "ipython",
    "version": 3
   },
   "file_extension": ".py",
   "mimetype": "text/x-python",
   "name": "python",
   "nbconvert_exporter": "python",
   "pygments_lexer": "ipython3",
   "version": "3.7.4"
  }
 },
 "nbformat": 4,
 "nbformat_minor": 2
}

{
 "cells": [
  {
   "cell_type": "markdown",
   "metadata": {},
   "source": [
    "Condicional If"
   ]
  },
  {
   "cell_type": "code",
   "execution_count": 1,
   "metadata": {},
   "outputs": [
    {
     "name": "stdout",
     "output_type": "stream",
     "text": [
      "Programa de evaluación de notas de alumnos\n",
      "7\n",
      "aprobado\n"
     ]
    }
   ],
   "source": [
    "print(\"Programa de evaluación de notas de alumnos\")\n",
    "\n",
    "nota_alumno=input()\n",
    "\n",
    "def evaluacion(nota):\n",
    "    \n",
    "    valoracion=\"aprobado\"\n",
    "    if nota<5:\n",
    "        valoracion=\"suspenso\"\n",
    "    return valoracion\n",
    "\n",
    "print(evaluacion(int(nota_alumno)))"
   ]
  },
  {
   "cell_type": "code",
   "execution_count": null,
   "metadata": {},
   "outputs": [],
   "source": []
  }
 ],
 "metadata": {
  "kernelspec": {
   "display_name": "Python 3",
   "language": "python",
   "name": "python3"
  },
  "language_info": {
   "codemirror_mode": {
    "name": "ipython",
    "version": 3
   },
   "file_extension": ".py",
   "mimetype": "text/x-python",
   "name": "python",
   "nbconvert_exporter": "python",
   "pygments_lexer": "ipython3",
   "version": "3.7.7"
  }
 },
 "nbformat": 4,
 "nbformat_minor": 2
}

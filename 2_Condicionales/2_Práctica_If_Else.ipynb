{
 "cells": [
  {
   "cell_type": "markdown",
   "metadata": {},
   "source": [
    "Condicional If Else Elif"
   ]
  },
  {
   "cell_type": "code",
   "execution_count": 1,
   "metadata": {},
   "outputs": [
    {
     "name": "stdout",
     "output_type": "stream",
     "text": [
      "Verificación de acceso\n",
      "Introduce tu nota, por favor: 8\n",
      "Notable\n",
      "El Programa ha Finalizado\n"
     ]
    }
   ],
   "source": [
    "print(\"Verificación de acceso\")\n",
    "\n",
    "nota_alumno=int(input(\"Introduce tu nota, por favor: \"))\n",
    "\n",
    "\n",
    "if nota_alumno<5:\n",
    "    print(\"Insuficiente\")\n",
    "elif nota_alumno<6:\n",
    "    print(\"Suficiente\")\n",
    "elif nota_alumno<7:\n",
    "    print(\"Bien\")\n",
    "elif nota_alumno<9:\n",
    "    print(\"Notable\")\n",
    "else:\n",
    "    print(\"Sobresaliente\")\n",
    "\n",
    "print(\"El Programa ha Finalizado\")"
   ]
  },
  {
   "cell_type": "code",
   "execution_count": null,
   "metadata": {},
   "outputs": [],
   "source": []
  }
 ],
 "metadata": {
  "kernelspec": {
   "display_name": "Python 3",
   "language": "python",
   "name": "python3"
  },
  "language_info": {
   "codemirror_mode": {
    "name": "ipython",
    "version": 3
   },
   "file_extension": ".py",
   "mimetype": "text/x-python",
   "name": "python",
   "nbconvert_exporter": "python",
   "pygments_lexer": "ipython3",
   "version": "3.7.7"
  }
 },
 "nbformat": 4,
 "nbformat_minor": 2
}

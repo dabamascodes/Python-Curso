{
 "cells": [
  {
   "cell_type": "markdown",
   "metadata": {},
   "source": [
    "Práctica Condicionales"
   ]
  },
  {
   "cell_type": "code",
   "execution_count": 2,
   "metadata": {},
   "outputs": [
    {
     "name": "stdout",
     "output_type": "stream",
     "text": [
      "Edad es correcta\n"
     ]
    }
   ],
   "source": [
    "edad=3\n",
    "if 0<edad<100:\n",
    "    print(\"Edad es correcta\")\n",
    "else:\n",
    "    print(\"Edad incorrecta\")"
   ]
  },
  {
   "cell_type": "code",
   "execution_count": 4,
   "metadata": {},
   "outputs": [
    {
     "name": "stdout",
     "output_type": "stream",
     "text": [
      "Introduce salario Presidente 9\n",
      "Salario presidente: 9\n",
      "Introduce salario Director 8\n",
      "Salario director: 8\n",
      "Introduce salario Jefe Área 7\n",
      "Salario Jefe Área: 7\n",
      "Introduce salario Administrativo 6\n",
      "Salario Administrativo: 6\n",
      "Todo funciona correctamente\n"
     ]
    }
   ],
   "source": [
    "salario_presidente=int(input(\"Introduce salario Presidente \" ))\n",
    "print(\"Salario presidente: \" + str(salario_presidente))\n",
    "\n",
    "salario_director=int(input(\"Introduce salario Director \" ))\n",
    "print(\"Salario director: \" + str(salario_director))\n",
    "\n",
    "salario_jefe_area=int(input(\"Introduce salario Jefe Área \" ))\n",
    "print(\"Salario Jefe Área: \" + str(salario_jefe_area))\n",
    "\n",
    "salario_administrativo=int(input(\"Introduce salario Administrativo \" ))\n",
    "print(\"Salario Administrativo: \" + str(salario_administrativo))\n",
    "\n",
    "if salario_administrativo<salario_jefe_area<salario_director<salario_presidente:\n",
    "    print(\"Todo funciona correctamente\")\n",
    "else:\n",
    "    print(\"Algo falla en esta empresa\")"
   ]
  },
  {
   "cell_type": "code",
   "execution_count": 5,
   "metadata": {},
   "outputs": [
    {
     "name": "stdout",
     "output_type": "stream",
     "text": [
      "Programa de becas Año 2017\n",
      "Introduce la distancia a la escuela en km 1\n",
      "1\n",
      "Introduce el no. de hermanos en el centro 1\n",
      "1\n",
      "Introduce salario anual bruto 3\n",
      "3\n",
      "Tienes derecho a beca\n"
     ]
    }
   ],
   "source": [
    "print(\"Programa de becas Año 2017\")\n",
    "distancia_escuela=int(input(\"Introduce la distancia a la escuela en km \"))\n",
    "print(distancia_escuela)\n",
    "\n",
    "numero_hermanos=int(input(\"Introduce el no. de hermanos en el centro \"))\n",
    "print(numero_hermanos)\n",
    "\n",
    "salario_familiar=int(input(\"Introduce salario anual bruto \"))\n",
    "print(salario_familiar)\n",
    "\n",
    "if distancia_escuela>40 and numero_hermanos>2 or salario_familiar<=20000:\n",
    "    print(\"Tienes derecho a beca\")\n",
    "else:\n",
    "    print(\"No tienes derecho a beca\")"
   ]
  },
  {
   "cell_type": "code",
   "execution_count": 6,
   "metadata": {},
   "outputs": [
    {
     "name": "stdout",
     "output_type": "stream",
     "text": [
      "Asignaturas optativas Año 2017\n",
      "Asignaturas optativas: Informática gráfica - Pruebas de software - Usabilidad y accesibilidad\n",
      "Escribe la asignatura escogida: Pruebas de software\n",
      "Asignatura elegida pruebas de software\n"
     ]
    }
   ],
   "source": [
    "print(\"Asignaturas optativas Año 2017\")\n",
    "print(\"Asignaturas optativas: Informática gráfica - Pruebas de software - Usabilidad y accesibilidad\")\n",
    "opcion=input(\"Escribe la asignatura escogida: \")\n",
    "\n",
    "asignatura=opcion.lower()\n",
    "\n",
    "if asignatura in (\"informática gráfica\", \"pruebas de software\", \"usabilidad y accesibilidad\"):\n",
    "    print(\"Asignatura elegida \" + asignatura)\n",
    "else:\n",
    "    print(\"La asignatura escogida no está contemplada\")"
   ]
  },
  {
   "cell_type": "code",
   "execution_count": null,
   "metadata": {},
   "outputs": [],
   "source": []
  }
 ],
 "metadata": {
  "kernelspec": {
   "display_name": "Python 3",
   "language": "python",
   "name": "python3"
  },
  "language_info": {
   "codemirror_mode": {
    "name": "ipython",
    "version": 3
   },
   "file_extension": ".py",
   "mimetype": "text/x-python",
   "name": "python",
   "nbconvert_exporter": "python",
   "pygments_lexer": "ipython3",
   "version": "3.7.7"
  }
 },
 "nbformat": 4,
 "nbformat_minor": 2
}

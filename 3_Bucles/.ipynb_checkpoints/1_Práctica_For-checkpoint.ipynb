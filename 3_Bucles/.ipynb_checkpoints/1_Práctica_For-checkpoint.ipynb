{
 "cells": [
  {
   "cell_type": "markdown",
   "metadata": {},
   "source": [
    "BUCLES\n",
    "\n",
    "DETERMINADOS\n",
    "\n",
    "\t* Se ejecutan UN NúMERO DETERMINADO de veces.\n",
    "\t* Se sabe a priori cuántas veces se va a ejecutar el código del interior del bucle\n",
    "\n",
    "INDETERMINADOS\n",
    "\n",
    "\t* Se ejecutan UN NúMERO INDETERMINADO de veces.\n",
    "\t* NO SE SABE a priori cuántas veces se va a ejecutar el código del interior del bucle\n",
    "\t* El número de veces que se ejecutará dependerá de las circunstancias durante la ejecución del programa."
   ]
  },
  {
   "cell_type": "markdown",
   "metadata": {},
   "source": [
    "for VARIABLE in ELEMENTO A RECORRER:"
   ]
  },
  {
   "cell_type": "code",
   "execution_count": 1,
   "metadata": {},
   "outputs": [
    {
     "name": "stdout",
     "output_type": "stream",
     "text": [
      "Hola\n",
      "Hola\n",
      "Hola\n",
      "Primavera\n",
      "Verano\n",
      "Otoño\n",
      "Invierno\n",
      "Hola Hola Hola "
     ]
    }
   ],
   "source": [
    "for i in [1,2,3]:\n",
    "    print(\"Hola\")\n",
    "    \n",
    "for i in [\"Primavera\",\"Verano\",\"Otoño\",\"Invierno\"]:\n",
    "    print(i)\n",
    "\n",
    "for i in [\"Pildoras\",\"Informaticas\",3]:\n",
    "    print(\"Hola\", end=\" \") # Finalizar la expresión sin realizar salto de línea"
   ]
  },
  {
   "cell_type": "code",
   "execution_count": 2,
   "metadata": {},
   "outputs": [
    {
     "name": "stdout",
     "output_type": "stream",
     "text": [
      "Hola\n",
      "Hola\n",
      "Hola\n",
      "Primavera\n",
      "Verano\n",
      "Otoño\n",
      "Invierno\n",
      "Hola Hola Hola "
     ]
    }
   ],
   "source": [
    "for i in [1, 2, 3]:\n",
    "    print(\"Hola\")\n",
    "\n",
    "for i in [\"Primavera\", \"Verano\", \"Otoño\", \"Invierno\"]:\n",
    "    print(i)\n",
    "\n",
    "for i in [\"Pildoras\", \"Informaticas\", 3]:\n",
    "    print(\"Hola\", end=\" \") #Argumento END nos permite determinar como terminará el Print"
   ]
  },
  {
   "cell_type": "code",
   "execution_count": 3,
   "metadata": {},
   "outputs": [
    {
     "name": "stdout",
     "output_type": "stream",
     "text": [
      "Introduce tu dirección de email: daniel.6@live.com.mx\n",
      "Email es correcto\n"
     ]
    }
   ],
   "source": [
    "email=False\n",
    "miEmail=input(\"Introduce tu dirección de email: \")\n",
    "\n",
    "\n",
    "for i in miEmail:\n",
    "    if (i==\"@\") :\n",
    "        email=True\n",
    "\n",
    "if email==True:\n",
    "    print(\"Email es correcto\")\n",
    "\n",
    "else:\n",
    "    print(\"El email no es correcto\")"
   ]
  },
  {
   "cell_type": "code",
   "execution_count": 4,
   "metadata": {},
   "outputs": [
    {
     "name": "stdout",
     "output_type": "stream",
     "text": [
      "Introduce tu dirección de email: daniel.6@live.com.mx\n",
      "Email es correcto\n"
     ]
    }
   ],
   "source": [
    "contador=0\n",
    "miEmail=input(\"Introduce tu dirección de email: \")\n",
    "\n",
    "\n",
    "for i in miEmail:\n",
    "    if (i==\"@\" or i==\".\") :\n",
    "        contador=contador+1\n",
    "\n",
    "if contador>=2:\n",
    "    print(\"Email es correcto\")\n",
    "\n",
    "else:\n",
    "    print(\"El email no es correcto\")"
   ]
  },
  {
   "cell_type": "code",
   "execution_count": 8,
   "metadata": {},
   "outputs": [
    {
     "name": "stdout",
     "output_type": "stream",
     "text": [
      "valor de la variable 0\n",
      "valor de la variable 1\n",
      "valor de la variable 2\n",
      "valor de la variable 3\n",
      "valor de la variable 4\n"
     ]
    }
   ],
   "source": [
    "for i in range(5):\n",
    "    #print(i)\n",
    "    print(f\"valor de la variable {i}\") #Al poner una \"f\" estamos indicandole a python que queremos utilizar una notación especial"
   ]
  },
  {
   "cell_type": "code",
   "execution_count": 9,
   "metadata": {},
   "outputs": [
    {
     "name": "stdout",
     "output_type": "stream",
     "text": [
      "valor de la variable 5\n",
      "valor de la variable 6\n",
      "valor de la variable 7\n",
      "valor de la variable 8\n",
      "valor de la variable 9\n"
     ]
    }
   ],
   "source": [
    "for i in range(5,10):\n",
    "    #print(i)\n",
    "    print(f\"valor de la variable {i}\")"
   ]
  },
  {
   "cell_type": "code",
   "execution_count": 10,
   "metadata": {},
   "outputs": [
    {
     "name": "stdout",
     "output_type": "stream",
     "text": [
      "valor de la variable 5\n",
      "valor de la variable 8\n",
      "valor de la variable 11\n",
      "valor de la variable 14\n",
      "valor de la variable 17\n",
      "valor de la variable 20\n",
      "valor de la variable 23\n",
      "valor de la variable 26\n",
      "valor de la variable 29\n",
      "valor de la variable 32\n",
      "valor de la variable 35\n",
      "valor de la variable 38\n",
      "valor de la variable 41\n",
      "valor de la variable 44\n",
      "valor de la variable 47\n"
     ]
    }
   ],
   "source": [
    "for i in range(5,50,3):\n",
    "    #print(i)\n",
    "    print(f\"valor de la variable {i}\")"
   ]
  },
  {
   "cell_type": "code",
   "execution_count": 11,
   "metadata": {},
   "outputs": [
    {
     "name": "stdout",
     "output_type": "stream",
     "text": [
      "Introduce tu email: daniel.6@live.com.mx\n",
      "Email es correcto\n"
     ]
    }
   ],
   "source": [
    "valido=False\n",
    "email=input(\"Introduce tu email: \")\n",
    "\n",
    "for i in range(len(email)):\n",
    "    if (email[i]==\"@\") :\n",
    "        valido=True\n",
    "\n",
    "if valido==True:\n",
    "    print(\"Email es correcto\")\n",
    "\n",
    "else:\n",
    "    print(\"El email no es correcto\")"
   ]
  },
  {
   "cell_type": "code",
   "execution_count": null,
   "metadata": {},
   "outputs": [],
   "source": []
  }
 ],
 "metadata": {
  "kernelspec": {
   "display_name": "Python 3",
   "language": "python",
   "name": "python3"
  },
  "language_info": {
   "codemirror_mode": {
    "name": "ipython",
    "version": 3
   },
   "file_extension": ".py",
   "mimetype": "text/x-python",
   "name": "python",
   "nbconvert_exporter": "python",
   "pygments_lexer": "ipython3",
   "version": "3.7.4"
  }
 },
 "nbformat": 4,
 "nbformat_minor": 2
}

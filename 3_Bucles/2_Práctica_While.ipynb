{
 "cells": [
  {
   "cell_type": "markdown",
   "metadata": {},
   "source": [
    "BUCLES\n",
    "\n",
    "DETERMINADOS\n",
    "\n",
    "\t* Se ejecutan UN NúMERO DETERMINADO de veces.\n",
    "\t* Se sabe a priori cuántas veces se va a ejecutar el código del interior del bucle\n",
    "\n",
    "INDETERMINADOS\n",
    "\n",
    "\t* Se ejecutan UN NúMERO INDETERMINADO de veces.\n",
    "\t* NO SE SABE a priori cuántas veces se va a ejecutar el código del interior del bucle\n",
    "\t* El número de veces que se ejecutará dependerá de las circunstancias durante la ejecución del programa."
   ]
  },
  {
   "cell_type": "markdown",
   "metadata": {},
   "source": [
    "While Condición:\n",
    "    Cuerpo del bucle"
   ]
  },
  {
   "cell_type": "code",
   "execution_count": 1,
   "metadata": {},
   "outputs": [
    {
     "name": "stdout",
     "output_type": "stream",
     "text": [
      "Ejecución 1\n",
      "Ejecución 2\n",
      "Ejecución 3\n",
      "Ejecución 4\n",
      "Ejecución 5\n",
      "Ejecución 6\n",
      "Ejecución 7\n",
      "Ejecución 8\n",
      "Ejecución 9\n",
      "Ejecución 10\n",
      "Terminó la ejecución\n"
     ]
    }
   ],
   "source": [
    "i=1\n",
    "\n",
    "while i<=10:\n",
    "    print(\"Ejecución \" + str(i))\n",
    "    i=i+1\n",
    "    \n",
    "print(\"Terminó la ejecución\")"
   ]
  },
  {
   "cell_type": "code",
   "execution_count": 2,
   "metadata": {},
   "outputs": [
    {
     "name": "stdout",
     "output_type": "stream",
     "text": [
      "Introduce tu edad por favor: 33\n",
      "Gracias por colaborar. Puedes pasar\n",
      "Edad del aspirante 33\n"
     ]
    }
   ],
   "source": [
    "edad=int(input(\"Introduce tu edad por favor: \"))\n",
    "\n",
    "while edad<0:\n",
    "    print(\"Has introducido una edad negativa. Vuelve a intentarlo\")\n",
    "    edad=int(input(\"Introduce tu edad por favor: \"))\n",
    "    \n",
    "print(\"Gracias por colaborar. Puedes pasar\")\n",
    "print(\"Edad del aspirante \" + str(edad))"
   ]
  },
  {
   "cell_type": "code",
   "execution_count": 3,
   "metadata": {},
   "outputs": [
    {
     "name": "stdout",
     "output_type": "stream",
     "text": [
      "Introduce tu edad por favor: 33\n",
      "Gracias por colaborar. Puedes pasar\n",
      "Edad del aspirante 33\n"
     ]
    }
   ],
   "source": [
    "edad=int(input(\"Introduce tu edad por favor: \"))\n",
    "\n",
    "while edad<5 or edad>100:\n",
    "    print(\"Has introducido una edad negativa. Vuelve a intentarlo\")\n",
    "    edad=int(input(\"Introduce tu edad por favor: \"))\n",
    "    \n",
    "print(\"Gracias por colaborar. Puedes pasar\")\n",
    "print(\"Edad del aspirante \" + str(edad))"
   ]
  },
  {
   "cell_type": "code",
   "execution_count": 5,
   "metadata": {},
   "outputs": [
    {
     "name": "stdout",
     "output_type": "stream",
     "text": [
      "Programa de cálculo de raíz cuadrada\n",
      "Introduce un número por favor: -8\n",
      "No se puede hallar la raíz de un número negativo\n",
      "Introduce un número por favor: -9\n",
      "No se puede hallar la raíz de un número negativo\n",
      "Introduce un número por favor: -9\n",
      "No se puede hallar la raíz de un número negativo\n",
      "Has consumido demasiados intentos. El programa ha finalizado\n"
     ]
    }
   ],
   "source": [
    "import math\n",
    "print(\"Programa de cálculo de raíz cuadrada\")\n",
    "numero=int(input(\"Introduce un número por favor: \"))\n",
    "\n",
    "intentos=0\n",
    "\n",
    "while numero<0:\n",
    "    print(\"No se puede hallar la raíz de un número negativo\")\n",
    "    \n",
    "    if intentos==2:\n",
    "        print(\"Has consumido demasiados intentos. El programa ha finalizado\")\n",
    "        break;\n",
    "    \n",
    "    numero=int(input(\"Introduce un número por favor: \"))\n",
    "    if numero<0:\n",
    "        intentos=intentos+1\n",
    "\n",
    "if intentos<2:\n",
    "    solucion = math.sqrt(numero)\n",
    "    print(\"La raíz cuadrada de \" + str(numero) + \" es \" + str(solucion))"
   ]
  },
  {
   "cell_type": "code",
   "execution_count": null,
   "metadata": {},
   "outputs": [],
   "source": []
  }
 ],
 "metadata": {
  "kernelspec": {
   "display_name": "Python 3",
   "language": "python",
   "name": "python3"
  },
  "language_info": {
   "codemirror_mode": {
    "name": "ipython",
    "version": 3
   },
   "file_extension": ".py",
   "mimetype": "text/x-python",
   "name": "python",
   "nbconvert_exporter": "python",
   "pygments_lexer": "ipython3",
   "version": "3.7.4"
  }
 },
 "nbformat": 4,
 "nbformat_minor": 2
}

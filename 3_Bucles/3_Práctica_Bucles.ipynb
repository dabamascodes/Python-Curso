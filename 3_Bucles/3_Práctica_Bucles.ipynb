{
 "cells": [
  {
   "cell_type": "markdown",
   "metadata": {},
   "source": [
    "BUCLES\n",
    "\n",
    "DETERMINADOS\n",
    "\n",
    "\t* Se ejecutan UN NúMERO DETERMINADO de veces.\n",
    "\t* Se sabe a priori cuántas veces se va a ejecutar el código del interior del bucle\n",
    "\n",
    "INDETERMINADOS\n",
    "\n",
    "\t* Se ejecutan UN NúMERO INDETERMINADO de veces.\n",
    "\t* NO SE SABE a priori cuántas veces se va a ejecutar el código del interior del bucle\n",
    "\t* El número de veces que se ejecutará dependerá de las circunstancias durante la ejecución del programa."
   ]
  },
  {
   "cell_type": "markdown",
   "metadata": {},
   "source": [
    "Continue, pass y else"
   ]
  },
  {
   "cell_type": "code",
   "execution_count": 2,
   "metadata": {},
   "outputs": [
    {
     "name": "stdout",
     "output_type": "stream",
     "text": [
      "Viendo la letra: P\n",
      "Viendo la letra: y\n",
      "Viendo la letra: t\n",
      "Viendo la letra: h\n",
      "Viendo la letra: o\n",
      "Viendo la letra: n\n"
     ]
    }
   ],
   "source": [
    "for letra in \"Python\":\n",
    "    print(\"Viendo la letra: \" + letra)"
   ]
  },
  {
   "cell_type": "code",
   "execution_count": 3,
   "metadata": {},
   "outputs": [
    {
     "name": "stdout",
     "output_type": "stream",
     "text": [
      "Viendo la letra: P\n",
      "Viendo la letra: y\n",
      "Viendo la letra: t\n",
      "Viendo la letra: o\n",
      "Viendo la letra: n\n"
     ]
    }
   ],
   "source": [
    "for letra in \"Python\":\n",
    "    if letra==\"h\":\n",
    "        continue\n",
    "    \n",
    "    print(\"Viendo la letra: \" + letra)"
   ]
  },
  {
   "cell_type": "code",
   "execution_count": 4,
   "metadata": {},
   "outputs": [
    {
     "name": "stdout",
     "output_type": "stream",
     "text": [
      "20\n"
     ]
    }
   ],
   "source": [
    "nombre=\"Pildoras Informáticas\"\n",
    "contador=0\n",
    "\n",
    "for i in nombre:\n",
    "    if i==\" \":\n",
    "        continue\n",
    "    contador+=1\n",
    "     \n",
    "print(contador)"
   ]
  },
  {
   "cell_type": "code",
   "execution_count": null,
   "metadata": {},
   "outputs": [],
   "source": [
    "while True:\n",
    "    pass"
   ]
  },
  {
   "cell_type": "code",
   "execution_count": null,
   "metadata": {},
   "outputs": [],
   "source": [
    "class MiClase:\n",
    "    pass # Para implementar más tarde"
   ]
  },
  {
   "cell_type": "code",
   "execution_count": 7,
   "metadata": {},
   "outputs": [
    {
     "name": "stdout",
     "output_type": "stream",
     "text": [
      "Introduce tu email, por favor: asdsd\n",
      "False\n"
     ]
    }
   ],
   "source": [
    "email=input(\"Introduce tu email, por favor: \")\n",
    "\n",
    "for i in email:\n",
    "    if i==\"@\":\n",
    "        arroba=True\n",
    "        break;\n",
    "\n",
    "else:\n",
    "    arroba=False    \n",
    "\n",
    "print(arroba)"
   ]
  },
  {
   "cell_type": "code",
   "execution_count": null,
   "metadata": {},
   "outputs": [],
   "source": []
  }
 ],
 "metadata": {
  "kernelspec": {
   "display_name": "Python 3",
   "language": "python",
   "name": "python3"
  },
  "language_info": {
   "codemirror_mode": {
    "name": "ipython",
    "version": 3
   },
   "file_extension": ".py",
   "mimetype": "text/x-python",
   "name": "python",
   "nbconvert_exporter": "python",
   "pygments_lexer": "ipython3",
   "version": "3.7.4"
  }
 },
 "nbformat": 4,
 "nbformat_minor": 2
}

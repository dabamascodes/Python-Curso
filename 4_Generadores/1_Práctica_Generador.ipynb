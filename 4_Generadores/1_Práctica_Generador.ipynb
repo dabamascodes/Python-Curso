{
 "cells": [
  {
   "cell_type": "markdown",
   "metadata": {},
   "source": [
    "GENERADORES\n",
    "\n",
    "    * Son Estructuras que extraen valores de una función y se almacenan en objetos iterables QUE SE PUEDEN RECORRER.\n",
    "    \n",
    "    * Estos valores se almacenan de uno en uno.\n",
    "    \n",
    "    * Cada vez que un generador almacena un valor, esta permanece en un estado pausado hasta que se solicita el siguiente.\n",
    "      Esta característica es conocida como \"Suspención de estado\"."
   ]
  },
  {
   "cell_type": "markdown",
   "metadata": {},
   "source": [
    "    * Son más eficientes que las funciones tradicionales.\n",
    "    \n",
    "    * Muy útiles con listas de valores infinitos.\n",
    "    \n",
    "    * Bajo determinados escenarios, será muy útil que un generador devuelva los valores de uno en uno."
   ]
  },
  {
   "cell_type": "code",
   "execution_count": 1,
   "metadata": {},
   "outputs": [
    {
     "name": "stdout",
     "output_type": "stream",
     "text": [
      "[2, 4, 6, 8, 10, 12, 14, 16, 18]\n"
     ]
    }
   ],
   "source": [
    "# Función Tradicional\n",
    "\n",
    "def generaPares(limite):\n",
    "    num=1\n",
    "    miLista=[]\n",
    "    \n",
    "    while num<limite:\n",
    "        miLista.append(num*2)\n",
    "        num=num+1\n",
    "    return miLista\n",
    "\n",
    "print(generaPares(10))"
   ]
  },
  {
   "cell_type": "code",
   "execution_count": 2,
   "metadata": {},
   "outputs": [
    {
     "name": "stdout",
     "output_type": "stream",
     "text": [
      "2\n",
      "4\n",
      "6\n",
      "8\n",
      "10\n",
      "12\n",
      "14\n",
      "16\n",
      "18\n"
     ]
    }
   ],
   "source": [
    "# Función con GENERADOR\n",
    "\n",
    "def generaPares(limite):\n",
    "    num=1\n",
    "    \n",
    "    while num<limite:\n",
    "        yield num*2 # yield Objeto Iterable \n",
    "        num=num+1\n",
    "    \n",
    "devuelvePares=generaPares(10)\n",
    "\n",
    "for i in devuelvePares:\n",
    "    print(i)"
   ]
  },
  {
   "cell_type": "code",
   "execution_count": 4,
   "metadata": {},
   "outputs": [
    {
     "name": "stdout",
     "output_type": "stream",
     "text": [
      "2\n",
      "Aquí podría ir más código...\n",
      "4\n",
      "Aquí podría ir más código...\n",
      "6\n"
     ]
    }
   ],
   "source": [
    "def generaPares(limite):\n",
    "    num=1\n",
    "    \n",
    "    while num<limite:\n",
    "        yield num*2\n",
    "        num=num+1\n",
    "    \n",
    "devuelvePares=generaPares(10)\n",
    "\n",
    "print(next(devuelvePares))\n",
    "print(\"Aquí podría ir más código...\")\n",
    "print(next(devuelvePares))\n",
    "print(\"Aquí podría ir más código...\")\n",
    "print(next(devuelvePares))"
   ]
  },
  {
   "cell_type": "code",
   "execution_count": null,
   "metadata": {},
   "outputs": [],
   "source": []
  }
 ],
 "metadata": {
  "kernelspec": {
   "display_name": "Python 3",
   "language": "python",
   "name": "python3"
  },
  "language_info": {
   "codemirror_mode": {
    "name": "ipython",
    "version": 3
   },
   "file_extension": ".py",
   "mimetype": "text/x-python",
   "name": "python",
   "nbconvert_exporter": "python",
   "pygments_lexer": "ipython3",
   "version": "3.7.4"
  }
 },
 "nbformat": 4,
 "nbformat_minor": 2
}

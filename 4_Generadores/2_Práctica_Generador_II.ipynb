{
 "cells": [
  {
   "cell_type": "markdown",
   "metadata": {},
   "source": [
    "YIELD FROM\n",
    "\n",
    "    * Utilidad: Simplificar el código de los generadores en el caso de utilizar bucles anidados\n",
    "    \n",
    "    * Una función GENERADOR nos devuelve un OBJETO GENERADOR en el cual se van almacenando poco a poco diversos elementos.\n",
    "      Esos elementos pueden ser de una naturaleza diferente: \n",
    "      \n",
    "        * Pueden ser palabras. \n",
    "        * Pueden ser valores númericos.\n",
    "        * Pueden ser listas [].\n",
    "        * Pueden ser tuplas ().\n",
    "        * Pueden ser diccionarios {}.\n",
    "        * Pueden ser objetos de muy diversa índole.\n",
    "        \n",
    "      Puede ser que en algunas circunstancias tu desees acceder al interior de uno de esos elementos. \n",
    "      Acceder uno a uno de esos subelementos."
   ]
  },
  {
   "cell_type": "code",
   "execution_count": 2,
   "metadata": {},
   "outputs": [
    {
     "name": "stdout",
     "output_type": "stream",
     "text": [
      "Madrid\n",
      "Barcelona\n"
     ]
    }
   ],
   "source": [
    "# Asterisco delante del argumento de una función le estamos indicando al programa que va a recibir un número indeterminado\n",
    "# de elementos en forma de TUPLA.\n",
    "\n",
    "def devuelve_ciudades(*ciudades): \n",
    "    for elemento in ciudades:\n",
    "        yield elemento\n",
    "\n",
    "ciudades_devueltas=devuelve_ciudades(\"Madrid\", \"Barcelona\", \"Bilbao\", \"Valencia\")\n",
    "\n",
    "print(next(ciudades_devueltas))\n",
    "print(next(ciudades_devueltas))"
   ]
  },
  {
   "cell_type": "code",
   "execution_count": 4,
   "metadata": {},
   "outputs": [
    {
     "name": "stdout",
     "output_type": "stream",
     "text": [
      "M\n",
      "a\n"
     ]
    }
   ],
   "source": [
    "def devuelve_ciudades(*ciudades):\n",
    "    for elemento in ciudades:\n",
    "        for subElemento in elemento:\n",
    "            yield subElemento\n",
    "\n",
    "ciudades_devueltas=devuelve_ciudades(\"Madrid\", \"Barcelona\", \"Bilbao\", \"Valencia\")\n",
    "\n",
    "print(next(ciudades_devueltas))\n",
    "print(next(ciudades_devueltas))"
   ]
  },
  {
   "cell_type": "code",
   "execution_count": 6,
   "metadata": {},
   "outputs": [
    {
     "name": "stdout",
     "output_type": "stream",
     "text": [
      "M\n",
      "a\n"
     ]
    }
   ],
   "source": [
    "def devuelve_ciudades(*ciudades):\n",
    "    for elemento in ciudades:\n",
    "            yield from elemento\n",
    "\n",
    "ciudades_devueltas=devuelve_ciudades(\"Madrid\", \"Barcelona\", \"Bilbao\", \"Valencia\")\n",
    "\n",
    "print(next(ciudades_devueltas))\n",
    "print(next(ciudades_devueltas))"
   ]
  },
  {
   "cell_type": "code",
   "execution_count": null,
   "metadata": {},
   "outputs": [],
   "source": []
  }
 ],
 "metadata": {
  "kernelspec": {
   "display_name": "Python 3",
   "language": "python",
   "name": "python3"
  },
  "language_info": {
   "codemirror_mode": {
    "name": "ipython",
    "version": 3
   },
   "file_extension": ".py",
   "mimetype": "text/x-python",
   "name": "python",
   "nbconvert_exporter": "python",
   "pygments_lexer": "ipython3",
   "version": "3.7.4"
  }
 },
 "nbformat": 4,
 "nbformat_minor": 2
}

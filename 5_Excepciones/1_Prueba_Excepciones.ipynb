{
 "cells": [
  {
   "cell_type": "markdown",
   "metadata": {},
   "source": [
    "EXCEPCIONES\n",
    "\n",
    "    * Las excepciones son errores que ocurren durante la ejecución del programa.\n",
    "      La sintaxis del código es correcta pero durante la ejecución ha ocurrido \"algo inesperado\". "
   ]
  },
  {
   "cell_type": "code",
   "execution_count": 1,
   "metadata": {},
   "outputs": [
    {
     "name": "stdout",
     "output_type": "stream",
     "text": [
      "Introduce el primer número: 5\n",
      "Introduce el segundo número: 6\n",
      "Introduce la operación a realizar (suma,resta,multiplica,divide): suma\n",
      "11\n",
      "Operación ejecutada. Continuación de ejecución del programa \n"
     ]
    }
   ],
   "source": [
    "def suma(num1, num2):\n",
    "\treturn num1+num2\n",
    "\n",
    "def resta(num1, num2):\n",
    "\treturn num1-num2\n",
    "\n",
    "def multiplica(num1, num2):\n",
    "\treturn num1*num2\n",
    "\n",
    "def divide(num1,num2):\n",
    "\t\n",
    "    try:\t\n",
    "        return num1/num2\n",
    "    except ZeroDivisionasdError:\n",
    "        print(\"No se puede dividir entre 0\")\n",
    "        return \"Operación errónea\"\n",
    "\n",
    "while True:\t\n",
    "    try:\n",
    "        op1=(int(input(\"Introduce el primer número: \")))\n",
    "    \n",
    "        op2=(int(input(\"Introduce el segundo número: \")))\t\n",
    "        \n",
    "        break\n",
    "    except ValueError:\n",
    "        print(\"Los valores introducidos no son correctos. Inténtalo de nuevo.\")\t\n",
    "\t\n",
    "operacion=input(\"Introduce la operación a realizar (suma,resta,multiplica,divide): \")\n",
    "\n",
    "if operacion==\"suma\":\n",
    "\tprint(suma(op1,op2))\n",
    "\n",
    "elif operacion==\"resta\":\n",
    "\tprint(resta(op1,op2))\n",
    "\n",
    "elif operacion==\"multiplica\":\n",
    "\tprint(multiplica(op1,op2))\n",
    "\n",
    "elif operacion==\"divide\":\n",
    "\tprint(divide(op1,op2))\n",
    "\n",
    "else:\n",
    "\tprint (\"Operación no contemplada\")\n",
    "\n",
    "\n",
    "print(\"Operación ejecutada. Continuación de ejecución del programa \")"
   ]
  },
  {
   "cell_type": "code",
   "execution_count": null,
   "metadata": {},
   "outputs": [],
   "source": []
  }
 ],
 "metadata": {
  "kernelspec": {
   "display_name": "Python 3",
   "language": "python",
   "name": "python3"
  },
  "language_info": {
   "codemirror_mode": {
    "name": "ipython",
    "version": 3
   },
   "file_extension": ".py",
   "mimetype": "text/x-python",
   "name": "python",
   "nbconvert_exporter": "python",
   "pygments_lexer": "ipython3",
   "version": "3.7.4"
  }
 },
 "nbformat": 4,
 "nbformat_minor": 2
}

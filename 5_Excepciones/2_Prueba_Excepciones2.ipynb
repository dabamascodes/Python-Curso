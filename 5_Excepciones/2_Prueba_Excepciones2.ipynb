{
 "cells": [
  {
   "cell_type": "markdown",
   "metadata": {},
   "source": [
    "EXCEPCIONES\n",
    "    \n",
    "    * Capturas de varias excepciones\n",
    "    \n",
    "    * Cláusula finally"
   ]
  },
  {
   "cell_type": "code",
   "execution_count": 1,
   "metadata": {},
   "outputs": [
    {
     "name": "stdout",
     "output_type": "stream",
     "text": [
      "Introduce el primer número: -5\n",
      "Introduce el segundo número: 0\n",
      "No se puede dividir entre 0\n",
      "Cálculo finalizado\n"
     ]
    }
   ],
   "source": [
    "def divide():\n",
    "    try:\n",
    "        opt1=(float(input(\"Introduce el primer número: \")))\n",
    "        opt2=(float(input(\"Introduce el segundo número: \")))\t   \n",
    "        print(\"La división es: \" + str(opt1/opt2))\n",
    "    except ValueError:\n",
    "        print(\"El valor introducido es erróneo\")\n",
    "    except ZeroDivisionError:\n",
    "        print(\"No se puede dividir entre 0\")\n",
    "    \n",
    "    print(\"Cálculo finalizado\")\n",
    "    \n",
    "divide()"
   ]
  },
  {
   "cell_type": "code",
   "execution_count": 2,
   "metadata": {},
   "outputs": [
    {
     "name": "stdout",
     "output_type": "stream",
     "text": [
      "Introduce el primer número: 9\n",
      "Introduce el segundo número: 0\n",
      "Ha ocurrido un error\n",
      "Cálculo finalizado\n"
     ]
    }
   ],
   "source": [
    "# Forma más genérica, menos recomendada\n",
    "\n",
    "def divide():\n",
    "    try:\n",
    "        opt1=(float(input(\"Introduce el primer número: \")))\n",
    "        opt2=(float(input(\"Introduce el segundo número: \")))\t   \n",
    "        print(\"La división es: \" + str(opt1/opt2))\n",
    "    except:\n",
    "        print(\"Ha ocurrido un error\")\n",
    "    print(\"Cálculo finalizado\")\n",
    "    \n",
    "divide()"
   ]
  },
  {
   "cell_type": "code",
   "execution_count": 3,
   "metadata": {},
   "outputs": [
    {
     "name": "stdout",
     "output_type": "stream",
     "text": [
      "Introduce el primer número: 8\n",
      "Introduce el segundo número: 0\n",
      "No se puede dividir entre 0\n",
      "Cálculo finalizado\n"
     ]
    }
   ],
   "source": [
    "# Finally: Cuando queremos que una instrucción se repita siempre al final si o si. \n",
    "\n",
    "def divide():\n",
    "    try:\n",
    "        opt1=(float(input(\"Introduce el primer número: \")))\n",
    "        opt2=(float(input(\"Introduce el segundo número: \")))\t   \n",
    "        print(\"La división es: \" + str(opt1/opt2))\n",
    "    except ValueError:\n",
    "        print(\"El valor introducido es erróneo\")\n",
    "    except ZeroDivisionError:\n",
    "        print(\"No se puede dividir entre 0\")\n",
    "    finally:\n",
    "        print(\"Cálculo finalizado\")\n",
    "    \n",
    "divide()"
   ]
  },
  {
   "cell_type": "code",
   "execution_count": 4,
   "metadata": {},
   "outputs": [
    {
     "name": "stdout",
     "output_type": "stream",
     "text": [
      "Introduce el primer número: 8\n",
      "Introduce el segundo número: 0\n",
      "Cálculo finalizado\n"
     ]
    },
    {
     "ename": "ZeroDivisionError",
     "evalue": "float division by zero",
     "output_type": "error",
     "traceback": [
      "\u001b[1;31m---------------------------------------------------------------------------\u001b[0m",
      "\u001b[1;31mZeroDivisionError\u001b[0m                         Traceback (most recent call last)",
      "\u001b[1;32m<ipython-input-4-99fe0381ff0c>\u001b[0m in \u001b[0;36m<module>\u001b[1;34m\u001b[0m\n\u001b[0;32m      8\u001b[0m         \u001b[0mprint\u001b[0m\u001b[1;33m(\u001b[0m\u001b[1;34m\"Cálculo finalizado\"\u001b[0m\u001b[1;33m)\u001b[0m\u001b[1;33m\u001b[0m\u001b[1;33m\u001b[0m\u001b[0m\n\u001b[0;32m      9\u001b[0m \u001b[1;33m\u001b[0m\u001b[0m\n\u001b[1;32m---> 10\u001b[1;33m \u001b[0mdivide\u001b[0m\u001b[1;33m(\u001b[0m\u001b[1;33m)\u001b[0m\u001b[1;33m\u001b[0m\u001b[1;33m\u001b[0m\u001b[0m\n\u001b[0m",
      "\u001b[1;32m<ipython-input-4-99fe0381ff0c>\u001b[0m in \u001b[0;36mdivide\u001b[1;34m()\u001b[0m\n\u001b[0;32m      3\u001b[0m         \u001b[0mopt1\u001b[0m\u001b[1;33m=\u001b[0m\u001b[1;33m(\u001b[0m\u001b[0mfloat\u001b[0m\u001b[1;33m(\u001b[0m\u001b[0minput\u001b[0m\u001b[1;33m(\u001b[0m\u001b[1;34m\"Introduce el primer número: \"\u001b[0m\u001b[1;33m)\u001b[0m\u001b[1;33m)\u001b[0m\u001b[1;33m)\u001b[0m\u001b[1;33m\u001b[0m\u001b[1;33m\u001b[0m\u001b[0m\n\u001b[0;32m      4\u001b[0m         \u001b[0mopt2\u001b[0m\u001b[1;33m=\u001b[0m\u001b[1;33m(\u001b[0m\u001b[0mfloat\u001b[0m\u001b[1;33m(\u001b[0m\u001b[0minput\u001b[0m\u001b[1;33m(\u001b[0m\u001b[1;34m\"Introduce el segundo número: \"\u001b[0m\u001b[1;33m)\u001b[0m\u001b[1;33m)\u001b[0m\u001b[1;33m)\u001b[0m\u001b[1;33m\u001b[0m\u001b[1;33m\u001b[0m\u001b[0m\n\u001b[1;32m----> 5\u001b[1;33m         \u001b[0mprint\u001b[0m\u001b[1;33m(\u001b[0m\u001b[1;34m\"La división es: \"\u001b[0m \u001b[1;33m+\u001b[0m \u001b[0mstr\u001b[0m\u001b[1;33m(\u001b[0m\u001b[0mopt1\u001b[0m\u001b[1;33m/\u001b[0m\u001b[0mopt2\u001b[0m\u001b[1;33m)\u001b[0m\u001b[1;33m)\u001b[0m\u001b[1;33m\u001b[0m\u001b[1;33m\u001b[0m\u001b[0m\n\u001b[0m\u001b[0;32m      6\u001b[0m \u001b[1;33m\u001b[0m\u001b[0m\n\u001b[0;32m      7\u001b[0m     \u001b[1;32mfinally\u001b[0m\u001b[1;33m:\u001b[0m\u001b[1;33m\u001b[0m\u001b[1;33m\u001b[0m\u001b[0m\n",
      "\u001b[1;31mZeroDivisionError\u001b[0m: float division by zero"
     ]
    }
   ],
   "source": [
    "def divide():\n",
    "    try:\n",
    "        opt1=(float(input(\"Introduce el primer número: \")))\n",
    "        opt2=(float(input(\"Introduce el segundo número: \")))\t   \n",
    "        print(\"La división es: \" + str(opt1/opt2))\n",
    "\n",
    "    finally:\n",
    "        print(\"Cálculo finalizado\")\n",
    "    \n",
    "divide()"
   ]
  },
  {
   "cell_type": "code",
   "execution_count": 5,
   "metadata": {},
   "outputs": [
    {
     "ename": "SyntaxError",
     "evalue": "invalid syntax (<ipython-input-5-5127262c0324>, line 8)",
     "output_type": "error",
     "traceback": [
      "\u001b[1;36m  File \u001b[1;32m\"<ipython-input-5-5127262c0324>\"\u001b[1;36m, line \u001b[1;32m8\u001b[0m\n\u001b[1;33m    print(\"Cálculo finalizado\")\u001b[0m\n\u001b[1;37m        ^\u001b[0m\n\u001b[1;31mSyntaxError\u001b[0m\u001b[1;31m:\u001b[0m invalid syntax\n"
     ]
    }
   ],
   "source": [
    "def divide():\n",
    "    try:\n",
    "        opt1=(float(input(\"Introduce el primer número: \")))\n",
    "        opt2=(float(input(\"Introduce el segundo número: \")))\t   \n",
    "        print(\"La división es: \" + str(opt1/opt2))\n",
    "\n",
    "    #finally:\n",
    "    print(\"Cálculo finalizado\")\n",
    "    \n",
    "divide()"
   ]
  },
  {
   "cell_type": "code",
   "execution_count": null,
   "metadata": {},
   "outputs": [],
   "source": []
  }
 ],
 "metadata": {
  "kernelspec": {
   "display_name": "Python 3",
   "language": "python",
   "name": "python3"
  },
  "language_info": {
   "codemirror_mode": {
    "name": "ipython",
    "version": 3
   },
   "file_extension": ".py",
   "mimetype": "text/x-python",
   "name": "python",
   "nbconvert_exporter": "python",
   "pygments_lexer": "ipython3",
   "version": "3.7.4"
  }
 },
 "nbformat": 4,
 "nbformat_minor": 2
}

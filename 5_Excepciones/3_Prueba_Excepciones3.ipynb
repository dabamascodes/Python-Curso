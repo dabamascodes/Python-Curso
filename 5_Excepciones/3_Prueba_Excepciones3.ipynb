{
 "cells": [
  {
   "cell_type": "markdown",
   "metadata": {},
   "source": [
    "EXCEPCIONES\n",
    "\n",
    "    * Instrución Raise\n",
    "    \n",
    "    * Creación de excepciones propias."
   ]
  },
  {
   "cell_type": "code",
   "execution_count": 3,
   "metadata": {},
   "outputs": [
    {
     "name": "stdout",
     "output_type": "stream",
     "text": [
      "Eres muy joven \n"
     ]
    }
   ],
   "source": [
    "def evaluaEdad(edad):\n",
    "    if edad<0:\n",
    "        raise TypeError(\"No se permiten edades negativas\")\n",
    "    if edad<20:\n",
    "        return \"Eres muy joven \"\n",
    "    elif edad<40:\n",
    "        return \"Eres joven\"\n",
    "    elif edad<65:\n",
    "        return \"Eres maduro\"\n",
    "    elif edad<100:\n",
    "        return \"cuidate...\"\n",
    "\n",
    "print(evaluaEdad(-15))"
   ]
  },
  {
   "cell_type": "code",
   "execution_count": 6,
   "metadata": {},
   "outputs": [
    {
     "name": "stdout",
     "output_type": "stream",
     "text": [
      "Eres muy joven \n"
     ]
    }
   ],
   "source": [
    "def evaluaEdad(edad):\n",
    "    if edad<0:\n",
    "        raise ZeroDivisionError(\"No se permiten edades negativas\")\n",
    "    if edad<20:\n",
    "        return \"Eres muy joven \"\n",
    "    elif edad<40:\n",
    "        return \"Eres joven\"\n",
    "    elif edad<65:\n",
    "        return \"Eres maduro\"\n",
    "    elif edad<100:\n",
    "        return \"cuidate...\"\n",
    "\n",
    "print(evaluaEdad(-15))"
   ]
  },
  {
   "cell_type": "code",
   "execution_count": 8,
   "metadata": {},
   "outputs": [
    {
     "ename": "NameError",
     "evalue": "name 'MiPropioError' is not defined",
     "output_type": "error",
     "traceback": [
      "\u001b[1;31m---------------------------------------------------------------------------\u001b[0m",
      "\u001b[1;31mNameError\u001b[0m                                 Traceback (most recent call last)",
      "\u001b[1;32m<ipython-input-8-953c86ddc85b>\u001b[0m in \u001b[0;36m<module>\u001b[1;34m\u001b[0m\n\u001b[0;32m     11\u001b[0m         \u001b[1;32mreturn\u001b[0m \u001b[1;34m\"cuidate...\"\u001b[0m\u001b[1;33m\u001b[0m\u001b[1;33m\u001b[0m\u001b[0m\n\u001b[0;32m     12\u001b[0m \u001b[1;33m\u001b[0m\u001b[0m\n\u001b[1;32m---> 13\u001b[1;33m \u001b[0mprint\u001b[0m\u001b[1;33m(\u001b[0m\u001b[0mevaluaEdad\u001b[0m\u001b[1;33m(\u001b[0m\u001b[1;33m-\u001b[0m\u001b[1;36m15\u001b[0m\u001b[1;33m)\u001b[0m\u001b[1;33m)\u001b[0m\u001b[1;33m\u001b[0m\u001b[1;33m\u001b[0m\u001b[0m\n\u001b[0m",
      "\u001b[1;32m<ipython-input-8-953c86ddc85b>\u001b[0m in \u001b[0;36mevaluaEdad\u001b[1;34m(edad)\u001b[0m\n\u001b[0;32m      1\u001b[0m \u001b[1;32mdef\u001b[0m \u001b[0mevaluaEdad\u001b[0m\u001b[1;33m(\u001b[0m\u001b[0medad\u001b[0m\u001b[1;33m)\u001b[0m\u001b[1;33m:\u001b[0m\u001b[1;33m\u001b[0m\u001b[1;33m\u001b[0m\u001b[0m\n\u001b[0;32m      2\u001b[0m     \u001b[1;32mif\u001b[0m \u001b[0medad\u001b[0m\u001b[1;33m<\u001b[0m\u001b[1;36m0\u001b[0m\u001b[1;33m:\u001b[0m\u001b[1;33m\u001b[0m\u001b[1;33m\u001b[0m\u001b[0m\n\u001b[1;32m----> 3\u001b[1;33m         \u001b[1;32mraise\u001b[0m \u001b[0mMiPropioError\u001b[0m\u001b[1;33m(\u001b[0m\u001b[1;34m\"No se permiten edades negativas\"\u001b[0m\u001b[1;33m)\u001b[0m\u001b[1;33m\u001b[0m\u001b[1;33m\u001b[0m\u001b[0m\n\u001b[0m\u001b[0;32m      4\u001b[0m     \u001b[1;32mif\u001b[0m \u001b[0medad\u001b[0m\u001b[1;33m<\u001b[0m\u001b[1;36m20\u001b[0m\u001b[1;33m:\u001b[0m\u001b[1;33m\u001b[0m\u001b[1;33m\u001b[0m\u001b[0m\n\u001b[0;32m      5\u001b[0m         \u001b[1;32mreturn\u001b[0m \u001b[1;34m\"Eres muy joven \"\u001b[0m\u001b[1;33m\u001b[0m\u001b[1;33m\u001b[0m\u001b[0m\n",
      "\u001b[1;31mNameError\u001b[0m: name 'MiPropioError' is not defined"
     ]
    }
   ],
   "source": [
    "def evaluaEdad(edad):\n",
    "    if edad<0:\n",
    "        raise MiPropioError(\"No se permiten edades negativas\")\n",
    "    if edad<20:\n",
    "        return \"Eres muy joven \"\n",
    "    elif edad<40:\n",
    "        return \"Eres joven\"\n",
    "    elif edad<65:\n",
    "        return \"Eres maduro\"\n",
    "    elif edad<100:\n",
    "        return \"cuidate...\"\n",
    "\n",
    "print(evaluaEdad(-15))"
   ]
  },
  {
   "cell_type": "code",
   "execution_count": 10,
   "metadata": {},
   "outputs": [
    {
     "name": "stdout",
     "output_type": "stream",
     "text": [
      "Introduce un número: 6\n",
      "2.449489742783178\n",
      "Programa terminado\n"
     ]
    }
   ],
   "source": [
    "import math\n",
    "\n",
    "def calculaRaiz(num1):\n",
    "    if num1<0:\n",
    "        raise ValueError(\"El número no puede ser negativo\")\n",
    "    else:\n",
    "        return math.sqrt(num1)\n",
    "    \n",
    "op1=(int(input(\"Introduce un número: \")))\n",
    "\n",
    "try:\n",
    "    print(calculaRaiz(op1))\n",
    "except ValueError as ErrorDeNumeroNegativo:\n",
    "    print(ErrorDeNumeroNegativo)\n",
    "\n",
    "print(\"Programa terminado\")"
   ]
  },
  {
   "cell_type": "code",
   "execution_count": null,
   "metadata": {},
   "outputs": [],
   "source": []
  }
 ],
 "metadata": {
  "kernelspec": {
   "display_name": "Python 3",
   "language": "python",
   "name": "python3"
  },
  "language_info": {
   "codemirror_mode": {
    "name": "ipython",
    "version": 3
   },
   "file_extension": ".py",
   "mimetype": "text/x-python",
   "name": "python",
   "nbconvert_exporter": "python",
   "pygments_lexer": "ipython3",
   "version": "3.7.4"
  }
 },
 "nbformat": 4,
 "nbformat_minor": 2
}

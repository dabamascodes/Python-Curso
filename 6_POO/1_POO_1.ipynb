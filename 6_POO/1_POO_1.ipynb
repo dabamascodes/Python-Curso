{
 "cells": [
  {
   "cell_type": "markdown",
   "metadata": {},
   "source": [
    "POO (Programación Orientada a Objetos)\n",
    "\n",
    "    * ¿En qué consiste?\n",
    "        Trasladar la naturaleza de los objetos de la vida real al código de programación.\n",
    "        \n",
    "    * ¿Cuál es la naturaleza de un objeto de la vida real\n",
    "        Los objetos tienen un ESTADO, un COMPORTAMIENTO (¿qué puede hacer?) y unas PROPIEDADES.\n",
    "        \n",
    "    *********************************************************************************************************\n",
    "    \n",
    "    CLASE: Módelo donde se redactan las características comunes de un grupo de objetos.\n",
    "    \n",
    "    EJEMPLAR DE CLASE / INSTANCIA DE CLASE / OBJETO PERTENECIENTE A UNA CLASE / OBJETO DE CLASE: Objeto o ejemplar\n",
    "    perteneciente a una clase.\n",
    "    \n",
    "    MODULARIZACIóN: Composición de un programa en una o varias CLASES ó MóDULOS.\n",
    "    \n",
    "    ENCAPSULACIóN: Funcionamiento interno de la CLASE  INACCESIBLE Desde fuera.\n",
    "    \n",
    "    HERENCIA:\n",
    "    \n",
    "    POLIFORMISMO:"
   ]
  },
  {
   "cell_type": "markdown",
   "metadata": {},
   "source": [
    "Indroducción a las: Clases, Propiedades, Métodos, Instancias y Objetos "
   ]
  },
  {
   "cell_type": "code",
   "execution_count": 1,
   "metadata": {},
   "outputs": [
    {
     "name": "stdout",
     "output_type": "stream",
     "text": [
      "El largo del coche es:  250\n",
      "El coche tiene:  4  ruedas.\n",
      "El coche está en marcha\n"
     ]
    }
   ],
   "source": [
    "class Coche():\n",
    "    # Propiedades\n",
    "    largoChasis=250 \n",
    "    anchoChasis=120\n",
    "    ruedas=4\n",
    "    enmarcha=False\n",
    "    \n",
    "    \n",
    "    # Métodos (Comportamientos)\n",
    "    #    Método: Función especial que pertenece a una clase.\n",
    "    \n",
    "    #***********************************************************\n",
    "    #    def function(self):\n",
    "    #        pass\n",
    "    #***********************************************************\n",
    "    #    self: Objeto perteneciente a la clase\n",
    "    \n",
    "    def arrancar(self):                      # AalMet_2: Lo que recibe \"self\" por parámetro es el OBJETO: \"miCoche\" \n",
    "        self.enmarcha=True                   # AalMet_3: Lo que se convierte realmente en: miCoche.enmarcha=True\n",
    "    \n",
    "    def estado(self):\n",
    "        if (self.enmarcha):\n",
    "            return \"El coche está en marcha\"\n",
    "        else:\n",
    "            return \"El coche está parado\"\n",
    "\n",
    "        \n",
    "#xxxxxxxxxxxxxxxxxxxxxxxxxxxxxxxxxxxxxxxxxxxxxxxxxxxxxxxxxxxxxxxxxxxxxxxxxxxxxxxxxxxxxxxxxxxxxxxxxxxxxxxxxxxxxxxxxxxxxxx        \n",
    "# INSTANCIA\n",
    "\n",
    "# Primer Objeto o instancia \"miCoche\" igualado al nombre de la clase a la cuál pertenece\n",
    "miCoche = Coche() # <----------------Instanciar una clase\n",
    "\n",
    "#xxxxxxxxxxxxxxxxxxxxxxxxxxxxxxxxxxxxxxxxxxxxxxxxxxxxxxxxxxxxxxxxxxxxxxxxxxxxxxxxxxxxxxxxxxxxxxxxxxxxxxxxxxxxxxxxxxxxxxx \n",
    "# PROPIEDADES\n",
    "\n",
    "# Accediendo a las Propiedades de la clase \"Coche()\" con nombreObjeto.Propiedad.\n",
    "print(\"El largo del coche es: \", miCoche.largoChasis)\n",
    "print(\"El coche tiene: \", miCoche.ruedas, \" ruedas.\")\n",
    "\n",
    "#xxxxxxxxxxxxxxxxxxxxxxxxxxxxxxxxxxxxxxxxxxxxxxxxxxxxxxxxxxxxxxxxxxxxxxxxxxxxxxxxxxxxxxxxxxxxxxxxxxxxxxxxxxxxxxxxxxxxxxx \n",
    "# MéTODOS (Comportamientos)\n",
    "\n",
    "# Accediendo a los Métodos Acrónimo Auxiliar = AalMet_#\n",
    "miCoche.arrancar()                           # AalMet_1: Llámamos al Método arrancar(Self): de la CLASE Coche()\n",
    "\n",
    "print(miCoche.estado())\n",
    "\n"
   ]
  },
  {
   "cell_type": "markdown",
   "metadata": {},
   "source": [
    "Código 2 DOS INSTANCIAS"
   ]
  },
  {
   "cell_type": "code",
   "execution_count": 2,
   "metadata": {},
   "outputs": [
    {
     "name": "stdout",
     "output_type": "stream",
     "text": [
      "El largo del coche es:  250\n",
      "El coche tiene:  4  ruedas.\n",
      "El coche está en marcha\n",
      "----------------A Continuación creamos el segundo objeto-----------------\n",
      "El largo del coche es:  250\n",
      "El coche tiene:  4  ruedas.\n",
      "El coche está parado\n"
     ]
    }
   ],
   "source": [
    "class Coche():\n",
    "    # Propiedades\n",
    "    largoChasis=250 \n",
    "    anchoChasis=120\n",
    "    ruedas=4\n",
    "    enmarcha=False\n",
    "    \n",
    "    \n",
    "    # Métodos (Comportamientos)\n",
    "    #    Método: Función especial que pertenece a una clase.\n",
    "    \n",
    "    #***********************************************************\n",
    "    #    def function(self):\n",
    "    #        pass\n",
    "    #***********************************************************\n",
    "    #    self: Objeto perteneciente a la clase\n",
    "    \n",
    "    def arrancar(self):                      # AalMet_2: Lo que recibe \"self\" por parámetro es el OBJETO: \"miCoche\" \n",
    "        self.enmarcha=True                   # AalMet_3: Lo que se convierte realmente en: miCoche.enmarcha=True\n",
    "    \n",
    "    def estado(self):\n",
    "        if (self.enmarcha):\n",
    "            return \"El coche está en marcha\"\n",
    "        else:\n",
    "            return \"El coche está parado\"\n",
    "\n",
    "        \n",
    "#xxxxxxxxxxxxxxxxxxxxxxxxxxxxxxxxxxxxxxxxxxxxxxxxxxxxxxxxxxxxxxxxxxxxxxxxxxxxxxxxxxxxxxxxxxxxxxxxxxxxxxxxxxxxxxxxxxxxxxx        \n",
    "# INSTANCIA\n",
    "\n",
    "# Primer Objeto o instancia \"miCoche\" igualado al nombre de la clase a la cuál pertenece\n",
    "miCoche = Coche() # <----------------Instanciar una clase\n",
    "\n",
    "#xxxxxxxxxxxxxxxxxxxxxxxxxxxxxxxxxxxxxxxxxxxxxxxxxxxxxxxxxxxxxxxxxxxxxxxxxxxxxxxxxxxxxxxxxxxxxxxxxxxxxxxxxxxxxxxxxxxxxxx \n",
    "# PROPIEDADES\n",
    "\n",
    "# Accediendo a las Propiedades de la clase \"Coche()\" con nombreObjeto.Propiedad.\n",
    "print(\"El largo del coche es: \", miCoche.largoChasis)\n",
    "print(\"El coche tiene: \", miCoche.ruedas, \" ruedas.\")\n",
    "\n",
    "#xxxxxxxxxxxxxxxxxxxxxxxxxxxxxxxxxxxxxxxxxxxxxxxxxxxxxxxxxxxxxxxxxxxxxxxxxxxxxxxxxxxxxxxxxxxxxxxxxxxxxxxxxxxxxxxxxxxxxxx \n",
    "# MéTODOS (Comportamientos)\n",
    "\n",
    "# Accediendo a los Métodos Acrónimo Auxiliar = AalMet_#\n",
    "miCoche.arrancar()                           # AalMet_1: Llámamos al Método arrancar(Self): de la CLASE Coche()\n",
    "\n",
    "print(miCoche.estado())\n",
    "\n",
    "print(\"----------------A Continuación creamos el segundo objeto-----------------\")\n",
    "miCoche2=Coche()\n",
    "print(\"El largo del coche es: \", miCoche2.largoChasis)\n",
    "print(\"El coche tiene: \", miCoche2.ruedas, \" ruedas.\")\n",
    "print(miCoche2.estado())\n"
   ]
  },
  {
   "cell_type": "code",
   "execution_count": 3,
   "metadata": {},
   "outputs": [
    {
     "ename": "SyntaxError",
     "evalue": "invalid syntax (<ipython-input-3-07e7d43e731c>, line 1)",
     "output_type": "error",
     "traceback": [
      "\u001b[0;36m  File \u001b[0;32m\"<ipython-input-3-07e7d43e731c>\"\u001b[0;36m, line \u001b[0;32m1\u001b[0m\n\u001b[0;31m    Código 3 DOS INSTANCIAS, + VARIABLE PARA CONTROL\u001b[0m\n\u001b[0m           ^\u001b[0m\n\u001b[0;31mSyntaxError\u001b[0m\u001b[0;31m:\u001b[0m invalid syntax\n"
     ]
    }
   ],
   "source": [
    "Código 3 DOS INSTANCIAS, + VARIABLE PARA CONTROL "
   ]
  },
  {
   "cell_type": "code",
   "execution_count": 4,
   "metadata": {},
   "outputs": [
    {
     "name": "stdout",
     "output_type": "stream",
     "text": [
      "El coche está en marcha\n",
      "El coche tiene  4  rueda(s). Un ancho de  120  y un largo de  250\n",
      "----------------A Continuación creamos el segundo objeto-----------------\n",
      "El coche está parado\n",
      "El coche tiene  4  rueda(s). Un ancho de  120  y un largo de  250\n"
     ]
    }
   ],
   "source": [
    "class Coche():\n",
    "    # Propiedades\n",
    "    largoChasis=250 \n",
    "    anchoChasis=120\n",
    "    ruedas=4\n",
    "    enmarcha=False\n",
    "    \n",
    "    \n",
    "    # Métodos (Comportamientos)\n",
    "    def arrancar(self, arrancamos):          \n",
    "        self.enmarcha=arrancamos\n",
    "        \n",
    "        if (self.enmarcha):\n",
    "            return \"El coche está en marcha\"\n",
    "        else:\n",
    "            return \"El coche está parado\"  \n",
    "        \n",
    "    def estado(self):\n",
    "        print(\"El coche tiene \", self.ruedas, \" rueda(s). Un ancho de \", self.anchoChasis, \" y un largo de \", self.largoChasis)\n",
    "\n",
    "# Instancia        \n",
    "miCoche = Coche()\n",
    "\n",
    "print(miCoche.arrancar(True))                          \n",
    "miCoche.estado()\n",
    "\n",
    "print(\"----------------A Continuación creamos el segundo objeto-----------------\")\n",
    "\n",
    "# Instancia\n",
    "miCoche2=Coche()\n",
    "\n",
    "print(miCoche.arrancar(False))                          \n",
    "miCoche2.estado()"
   ]
  },
  {
   "cell_type": "code",
   "execution_count": 5,
   "metadata": {},
   "outputs": [
    {
     "ename": "SyntaxError",
     "evalue": "invalid syntax (<ipython-input-5-c0c9882a98d1>, line 1)",
     "output_type": "error",
     "traceback": [
      "\u001b[0;36m  File \u001b[0;32m\"<ipython-input-5-c0c9882a98d1>\"\u001b[0;36m, line \u001b[0;32m1\u001b[0m\n\u001b[0;31m    Código 4 CONSTRUCTOR:\u001b[0m\n\u001b[0m           ^\u001b[0m\n\u001b[0;31mSyntaxError\u001b[0m\u001b[0;31m:\u001b[0m invalid syntax\n"
     ]
    }
   ],
   "source": [
    "Código 4 CONSTRUCTOR:\n",
    "    \n",
    "    En POO, es habitual que las características cómunes de los objetos formen parte de algo llamado ESTADO INICIAL,\n",
    "    Es decir que estas características cómunes sean como de FABRICA, es decir que en cuanto nosotros creamos una INSTANCIA,\n",
    "    un OBJETO, un EJEMPLAR PERTENECIENTE A UNA CLASE, inmediatamente simplemente después por el hecho de haber creado ese\n",
    "    OBJETO YA TENGA UN ESTADO INICIAL.\n",
    "    \n",
    "    Este ESTADO INICIAL nosotros lo especificamos con lo que se denomina un CONSTRUCTOR.\n",
    "    \n",
    "    UN CONSTRUCTOR: Es un método especial que le da ESTADO INICIAL A LOS OBJETOS. Es una forma de especificar claramente\n",
    "    cual va a ser el ESTADO INICIAL de los OBJETOS que Pertenezcan a una CLASE.\n",
    "    "
   ]
  },
  {
   "cell_type": "code",
   "execution_count": 6,
   "metadata": {},
   "outputs": [
    {
     "name": "stdout",
     "output_type": "stream",
     "text": [
      "El coche está en marcha\n",
      "El coche tiene  4  rueda(s). Un ancho de  120  y un largo de  250\n",
      "----------------A Continuación creamos el segundo objeto-----------------\n",
      "El coche está parado\n",
      "El coche tiene  4  rueda(s). Un ancho de  120  y un largo de  250\n"
     ]
    }
   ],
   "source": [
    "class Coche():\n",
    "    \n",
    "    # Método CONSTRUCTOR DE CLASE\n",
    "    def __init__(self):\n",
    "        # Propiedades\n",
    "        self.largoChasis=250 \n",
    "        self.anchoChasis=120\n",
    "        self.ruedas=4\n",
    "        self.enmarcha=False\n",
    "    \n",
    "    \n",
    "    # Métodos (Comportamientos)\n",
    "    def arrancar(self, arrancamos):          \n",
    "        self.enmarcha=arrancamos\n",
    "        \n",
    "        if (self.enmarcha):\n",
    "            return \"El coche está en marcha\"\n",
    "        else:\n",
    "            return \"El coche está parado\"  \n",
    "        \n",
    "    def estado(self):\n",
    "        print(\"El coche tiene \", self.ruedas, \" rueda(s). Un ancho de \", self.anchoChasis, \" y un largo de \", self.largoChasis)\n",
    "\n",
    "# Instancia        \n",
    "miCoche = Coche()\n",
    "\n",
    "print(miCoche.arrancar(True))                          \n",
    "miCoche.estado()\n",
    "\n",
    "print(\"----------------A Continuación creamos el segundo objeto-----------------\")\n",
    "\n",
    "# Instancia\n",
    "miCoche2=Coche()\n",
    "\n",
    "print(miCoche.arrancar(False))                          \n",
    "miCoche2.estado()"
   ]
  },
  {
   "cell_type": "markdown",
   "metadata": {},
   "source": [
    "Código 5 SIN ENCAPSULACIóN DE PROPIEDADES: Modificación de Propiedades desde Fuera de la Clase"
   ]
  },
  {
   "cell_type": "code",
   "execution_count": 7,
   "metadata": {},
   "outputs": [
    {
     "name": "stdout",
     "output_type": "stream",
     "text": [
      "El coche está en marcha\n",
      "El coche tiene  4  rueda(s). Un ancho de  120  y un largo de  250\n",
      "----------------A Continuación creamos el segundo objeto-----------------\n",
      "El coche está parado\n",
      "El coche tiene  2  rueda(s). Un ancho de  120  y un largo de  250\n"
     ]
    }
   ],
   "source": [
    "class Coche():\n",
    "    \n",
    "    # Método CONSTRUCTOR DE CLASE\n",
    "    def __init__(self):\n",
    "        # Propiedades\n",
    "        self.largoChasis=250 \n",
    "        self.anchoChasis=120\n",
    "        self.ruedas=4\n",
    "        self.enmarcha=False\n",
    "    \n",
    "    \n",
    "    # Métodos (Comportamientos)\n",
    "    def arrancar(self, arrancamos):          \n",
    "        self.enmarcha=arrancamos\n",
    "        \n",
    "        if (self.enmarcha):\n",
    "            return \"El coche está en marcha\"\n",
    "        else:\n",
    "            return \"El coche está parado\"  \n",
    "        \n",
    "    def estado(self):\n",
    "        print(\"El coche tiene \", self.ruedas, \" rueda(s). Un ancho de \", self.anchoChasis, \" y un largo de \", self.largoChasis)\n",
    "\n",
    "# Instancia        \n",
    "miCoche = Coche()\n",
    "\n",
    "print(miCoche.arrancar(True))                          \n",
    "miCoche.estado()\n",
    "\n",
    "print(\"----------------A Continuación creamos el segundo objeto-----------------\")\n",
    "\n",
    "# Instancia\n",
    "miCoche2=Coche()\n",
    "\n",
    "print(miCoche.arrancar(False))\n",
    "\n",
    "#################################################################################################\n",
    "# NO DEBERíA DE PERMITIRSE MODIFICAR UNA PROPIEDAD DE CLASE DESDE FUERA DE ELLA\n",
    "# SI SE ENCAPSULA LA PROPIEDAD DENTRO DE LA CLASE\n",
    "miCoche2.ruedas=2\n",
    "\n",
    "#################################################################################################\n",
    "miCoche2.estado()"
   ]
  },
  {
   "cell_type": "markdown",
   "metadata": {},
   "source": [
    "Código 6 CON ENCAPSULACIóN DE PROPIEDADES\n",
    "\n",
    "    Encapsular: Proteger un(as) propiedad(es) para que no se pueda(n) modificar desde fuera de la CLASE"
   ]
  },
  {
   "cell_type": "code",
   "execution_count": 8,
   "metadata": {},
   "outputs": [
    {
     "name": "stdout",
     "output_type": "stream",
     "text": [
      "El coche está en marcha\n",
      "El coche tiene  4  rueda(s). Un ancho de  120  y un largo de  250\n",
      "----------------A Continuación creamos el segundo objeto-----------------\n",
      "El coche está parado\n",
      "El coche tiene  4  rueda(s). Un ancho de  120  y un largo de  250\n"
     ]
    }
   ],
   "source": [
    "class Coche():\n",
    "    \n",
    "    # Método CONSTRUCTOR DE CLASE\n",
    "    def __init__(self):\n",
    "        # Propiedades: Encapsular Propiedades \"self.__Nombre\"\n",
    "        self.__largoChasis=250 \n",
    "        self.__anchoChasis=120\n",
    "        self.__ruedas=4\n",
    "        self.__enmarcha=False\n",
    "    \n",
    "    # Métodos (Comportamientos)\n",
    "    def arrancar(self, arrancamos):          \n",
    "        self.__enmarcha=arrancamos\n",
    "        \n",
    "        if (self.__enmarcha):\n",
    "            return \"El coche está en marcha\"\n",
    "        else:\n",
    "            return \"El coche está parado\"  \n",
    "        \n",
    "    def estado(self):\n",
    "        print(\"El coche tiene \", self.__ruedas, \" rueda(s). Un ancho de \", self.__anchoChasis, \" y un largo de \", self.__largoChasis)\n",
    "\n",
    "# Instancia        \n",
    "miCoche = Coche()\n",
    "\n",
    "print(miCoche.arrancar(True))                          \n",
    "miCoche.estado()\n",
    "\n",
    "print(\"----------------A Continuación creamos el segundo objeto-----------------\")\n",
    "\n",
    "# Instancia\n",
    "miCoche2=Coche()\n",
    "\n",
    "print(miCoche.arrancar(False))\n",
    "\n",
    "#################################################################################################\n",
    "# NO DEBERíA DE PERMITIRSE MODIFICAR UNA PROPIEDAD DE CLASE DESDE FUERA DE ELLA\n",
    "# SI SE ENCAPSULA LA PROPIEDAD DENTRO DE LA CLASE\n",
    "miCoche2.__ruedas=2\n",
    "\n",
    "#################################################################################################\n",
    "miCoche2.estado()"
   ]
  },
  {
   "cell_type": "markdown",
   "metadata": {},
   "source": [
    "Código 7 SIN ENCAPSULACIóN DE MéTODOS"
   ]
  },
  {
   "cell_type": "code",
   "execution_count": 9,
   "metadata": {},
   "outputs": [
    {
     "name": "stdout",
     "output_type": "stream",
     "text": [
      "Realizando chequeo interno\n",
      "El coche está en marcha\n",
      "El coche tiene  4  rueda(s). Un ancho de  120  y un largo de  250\n",
      "Realizando chequeo interno\n",
      "True\n",
      "----------------A Continuación creamos el segundo objeto-----------------\n",
      "El coche está parado.\n",
      "El coche tiene  4  rueda(s). Un ancho de  120  y un largo de  250\n",
      "Realizando chequeo interno\n",
      "True\n"
     ]
    }
   ],
   "source": [
    "class Coche():\n",
    "    \n",
    "    # Método CONSTRUCTOR DE CLASE\n",
    "    def __init__(self):\n",
    "        # Propiedades: Encapsular Propiedades \"self.__Nombre\"\n",
    "        self.__largoChasis=250 \n",
    "        self.__anchoChasis=120\n",
    "        self.__ruedas=4\n",
    "        self.__enmarcha=False\n",
    "    \n",
    "    # Métodos (Comportamientos)\n",
    "    def arrancar(self, arrancamos):          \n",
    "        self.__enmarcha=arrancamos\n",
    "        \n",
    "        if(self.__enmarcha):\n",
    "            chequeo=self.chequeo_interno()\n",
    "        \n",
    "        if (self.__enmarcha and chequeo):\n",
    "            return \"El coche está en marcha\"\n",
    "        elif(self.__enmarcha and chequeo==False):\n",
    "            return \"Algo ha ido mal en el chequeo. No podemos arrancar.\"\n",
    "        else:\n",
    "            return \"El coche está parado.\"  \n",
    "        \n",
    "    def estado(self):\n",
    "        print(\"El coche tiene \", self.__ruedas, \" rueda(s). Un ancho de \", self.__anchoChasis, \" y un largo de \", self.__largoChasis)\n",
    "    \n",
    "    \n",
    "    def chequeo_interno(self):\n",
    "        print(\"Realizando chequeo interno\")\n",
    "        \n",
    "        self.gasolina=\"ok\"\n",
    "        self.aceite=\"ok\"\n",
    "        self.puertas=\"cerradas\"\n",
    "        \n",
    "        if(self.gasolina ==\"ok\" and self.aceite==\"ok\" and self.puertas==\"cerradas\"):\n",
    "            return True\n",
    "        else:\n",
    "            return False\n",
    "        \n",
    "    \n",
    "    \n",
    "# Instancia        \n",
    "miCoche = Coche()\n",
    "\n",
    "print(miCoche.arrancar(True))                          \n",
    "miCoche.estado()\n",
    "\n",
    "#################################################################################################\n",
    "# NO DEBERíA DE PERMITIRSE ACCEDER A UN Método DE CLASE DESDE FUERA DE ELLA\n",
    "# SI SE ENCAPSULA EL MéTODO DENTRO DE LA CLASE\n",
    "\n",
    "print(miCoche.chequeo_interno())\n",
    "\n",
    "#################################################################################################\n",
    "print(\"----------------A Continuación creamos el segundo objeto-----------------\")\n",
    "\n",
    "# Instancia\n",
    "miCoche2=Coche()\n",
    "\n",
    "print(miCoche.arrancar(False))\n",
    "miCoche2.estado()\n",
    "\n",
    "#################################################################################################\n",
    "# NO DEBERíA DE PERMITIRSE ACCEDER A UN Método DE CLASE DESDE FUERA DE ELLA\n",
    "# SI SE ENCAPSULA EL MéTODO DENTRO DE LA CLASE\n",
    "\n",
    "print(miCoche2.chequeo_interno())\n",
    "\n",
    "#################################################################################################"
   ]
  },
  {
   "cell_type": "markdown",
   "metadata": {},
   "source": [
    "Código 8 CON ENCAPSULACIóN DE MéTODOS: Aun llamando al Método \"__chequeo_interno()\" desde fuera de la clase generará un \n",
    "\n",
    "    AttributeError: 'Coche' object has no attribute '__chequeo_interno'"
   ]
  },
  {
   "cell_type": "code",
   "execution_count": 10,
   "metadata": {},
   "outputs": [
    {
     "name": "stdout",
     "output_type": "stream",
     "text": [
      "Realizando chequeo interno\n",
      "El coche está en marcha\n",
      "El coche tiene  4  rueda(s). Un ancho de  120  y un largo de  250\n"
     ]
    },
    {
     "ename": "AttributeError",
     "evalue": "'Coche' object has no attribute '__chequeo_interno'",
     "output_type": "error",
     "traceback": [
      "\u001b[0;31m---------------------------------------------------------------------------\u001b[0m",
      "\u001b[0;31mAttributeError\u001b[0m                            Traceback (most recent call last)",
      "\u001b[0;32m<ipython-input-10-97f0f4b442d0>\u001b[0m in \u001b[0;36m<module>\u001b[0;34m\u001b[0m\n\u001b[1;32m     51\u001b[0m \u001b[0;31m# SI SE ENCAPSULA EL MéTODO DENTRO DE LA CLASE\u001b[0m\u001b[0;34m\u001b[0m\u001b[0;34m\u001b[0m\u001b[0;34m\u001b[0m\u001b[0m\n\u001b[1;32m     52\u001b[0m \u001b[0;34m\u001b[0m\u001b[0m\n\u001b[0;32m---> 53\u001b[0;31m \u001b[0mprint\u001b[0m\u001b[0;34m(\u001b[0m\u001b[0mmiCoche\u001b[0m\u001b[0;34m.\u001b[0m\u001b[0m__chequeo_interno\u001b[0m\u001b[0;34m(\u001b[0m\u001b[0;34m)\u001b[0m\u001b[0;34m)\u001b[0m\u001b[0;34m\u001b[0m\u001b[0;34m\u001b[0m\u001b[0m\n\u001b[0m\u001b[1;32m     54\u001b[0m \u001b[0;34m\u001b[0m\u001b[0m\n\u001b[1;32m     55\u001b[0m \u001b[0;31m#################################################################################################\u001b[0m\u001b[0;34m\u001b[0m\u001b[0;34m\u001b[0m\u001b[0;34m\u001b[0m\u001b[0m\n",
      "\u001b[0;31mAttributeError\u001b[0m: 'Coche' object has no attribute '__chequeo_interno'"
     ]
    }
   ],
   "source": [
    "class Coche():\n",
    "    \n",
    "    # Método CONSTRUCTOR DE CLASE\n",
    "    def __init__(self):\n",
    "        # Propiedades: Encapsular Propiedades \"self.__Nombre\"\n",
    "        self.__largoChasis=250 \n",
    "        self.__anchoChasis=120\n",
    "        self.__ruedas=4\n",
    "        self.__enmarcha=False\n",
    "    \n",
    "    # Métodos (Comportamientos)\n",
    "    def arrancar(self, arrancamos):          \n",
    "        self.__enmarcha=arrancamos\n",
    "        \n",
    "        if(self.__enmarcha):\n",
    "            chequeo=self.__chequeo_interno()\n",
    "        \n",
    "        if (self.__enmarcha and chequeo):\n",
    "            return \"El coche está en marcha\"\n",
    "        elif(self.__enmarcha and chequeo==False):\n",
    "            return \"Algo ha ido mal en el chequeo. No podemos arrancar.\"\n",
    "        else:\n",
    "            return \"El coche está parado.\"  \n",
    "        \n",
    "    def estado(self):\n",
    "        print(\"El coche tiene \", self.__ruedas, \" rueda(s). Un ancho de \", self.__anchoChasis, \" y un largo de \", self.__largoChasis)\n",
    "    \n",
    "    # Métodos: Encapsular Métodos: \"def __NombreMétodo(self)\"\n",
    "    def __chequeo_interno(self):\n",
    "        print(\"Realizando chequeo interno\")\n",
    "        \n",
    "        self.gasolina=\"ok\"\n",
    "        self.aceite=\"ok\"\n",
    "        self.puertas=\"cerradas\"\n",
    "        \n",
    "        if(self.gasolina ==\"ok\" and self.aceite==\"ok\" and self.puertas==\"cerradas\"):\n",
    "            return True\n",
    "        else:\n",
    "            return False\n",
    "        \n",
    "    \n",
    "    \n",
    "# Instancia        \n",
    "miCoche = Coche()\n",
    "\n",
    "print(miCoche.arrancar(True))                          \n",
    "miCoche.estado()\n",
    "\n",
    "#################################################################################################\n",
    "# NO DEBERíA DE PERMITIRSE ACCEDER A UN Método DE CLASE DESDE FUERA DE ELLA\n",
    "# SI SE ENCAPSULA EL MéTODO DENTRO DE LA CLASE\n",
    "\n",
    "print(miCoche.__chequeo_interno())\n",
    "\n",
    "#################################################################################################\n",
    "print(\"----------------A Continuación creamos el segundo objeto-----------------\")\n",
    "\n",
    "# Instancia\n",
    "miCoche2=Coche()\n",
    "\n",
    "print(miCoche.arrancar(False))\n",
    "miCoche2.estado()\n",
    "\n",
    "#################################################################################################\n",
    "# NO DEBERíA DE PERMITIRSE ACCEDER A UN Método DE CLASE DESDE FUERA DE ELLA\n",
    "# SI SE ENCAPSULA EL MéTODO DENTRO DE LA CLASE\n",
    "\n",
    "print(miCoche2.__chequeo_interno())\n",
    "\n",
    "#################################################################################################"
   ]
  },
  {
   "cell_type": "markdown",
   "metadata": {},
   "source": [
    "Código 9 CON ENCAPSULACIóN DE MéTODOS: YA NO llamando al Método \"__chequeo_interno()\" desde fuera de la clase  \n",
    "YA NO generará un \n",
    "\n",
    "    AttributeError: 'Coche' object has no attribute '__chequeo_interno'"
   ]
  },
  {
   "cell_type": "code",
   "execution_count": 11,
   "metadata": {},
   "outputs": [
    {
     "name": "stdout",
     "output_type": "stream",
     "text": [
      "Realizando chequeo interno\n",
      "El coche está en marcha\n",
      "El coche tiene  4  rueda(s). Un ancho de  120  y un largo de  250\n",
      "----------------A Continuación creamos el segundo objeto-----------------\n",
      "El coche está parado.\n",
      "El coche tiene  4  rueda(s). Un ancho de  120  y un largo de  250\n"
     ]
    }
   ],
   "source": [
    "class Coche():\n",
    "    \n",
    "    # Método CONSTRUCTOR DE CLASE\n",
    "    def __init__(self):\n",
    "        # Propiedades: Encapsular Propiedades \"self.__Nombre\"\n",
    "        self.__largoChasis=250 \n",
    "        self.__anchoChasis=120\n",
    "        self.__ruedas=4\n",
    "        self.__enmarcha=False\n",
    "    \n",
    "    # Métodos (Comportamientos)\n",
    "    def arrancar(self, arrancamos):          \n",
    "        self.__enmarcha=arrancamos\n",
    "        \n",
    "        if(self.__enmarcha):\n",
    "            chequeo=self.__chequeo_interno()\n",
    "        \n",
    "        if (self.__enmarcha and chequeo):\n",
    "            return \"El coche está en marcha\"\n",
    "        elif(self.__enmarcha and chequeo==False):\n",
    "            return \"Algo ha ido mal en el chequeo. No podemos arrancar.\"\n",
    "        else:\n",
    "            return \"El coche está parado.\"  \n",
    "        \n",
    "    def estado(self):\n",
    "        print(\"El coche tiene \", self.__ruedas, \" rueda(s). Un ancho de \", self.__anchoChasis, \" y un largo de \", self.__largoChasis)\n",
    "    \n",
    "    # Métodos: Encapsular Métodos: \"def __NombreMétodo(self)\"\n",
    "    def __chequeo_interno(self):\n",
    "        print(\"Realizando chequeo interno\")\n",
    "        \n",
    "        self.gasolina=\"ok\"\n",
    "        self.aceite=\"ok\"\n",
    "        self.puertas=\"cerradas\"\n",
    "        \n",
    "        if(self.gasolina ==\"ok\" and self.aceite==\"ok\" and self.puertas==\"cerradas\"):\n",
    "            return True\n",
    "        else:\n",
    "            return False\n",
    "        \n",
    "    \n",
    "    \n",
    "# Instancia        \n",
    "miCoche = Coche()\n",
    "\n",
    "print(miCoche.arrancar(True))                          \n",
    "miCoche.estado()\n",
    "\n",
    "print(\"----------------A Continuación creamos el segundo objeto-----------------\")\n",
    "\n",
    "# Instancia\n",
    "miCoche2=Coche()\n",
    "\n",
    "print(miCoche.arrancar(False))\n",
    "miCoche2.estado()\n"
   ]
  },
  {
   "cell_type": "markdown",
   "metadata": {},
   "source": [
    "NOTA: \n",
    "\n",
    "SE DEBEN ENCAPSULAR PROPIEDADES (Variables) o NO, SE DEBEN ENCAPSULAR MéTODOS (Comportamientos) o NO:\n",
    "\n",
    "    CUANDO TU OBJETO, TU CLASE ASí LO NECESITE.\n",
    "    \n",
    "    Y eso depende del comportamiento que quieres que tenga esa CLASE, según tu criterio como Programador.\n",
    "\n"
   ]
  },
  {
   "cell_type": "code",
   "execution_count": null,
   "metadata": {},
   "outputs": [],
   "source": []
  }
 ],
 "metadata": {
  "kernelspec": {
   "display_name": "Python 3",
   "language": "python",
   "name": "python3"
  },
  "language_info": {
   "codemirror_mode": {
    "name": "ipython",
    "version": 3
   },
   "file_extension": ".py",
   "mimetype": "text/x-python",
   "name": "python",
   "nbconvert_exporter": "python",
   "pygments_lexer": "ipython3",
   "version": "3.7.7"
  }
 },
 "nbformat": 4,
 "nbformat_minor": 2
}

{
 "cells": [
  {
   "cell_type": "markdown",
   "metadata": {},
   "source": [
    "POLIMORFISMO"
   ]
  },
  {
   "cell_type": "code",
   "execution_count": 1,
   "metadata": {},
   "outputs": [
    {
     "name": "stdout",
     "output_type": "stream",
     "text": [
      "Me desplazo utilizando dos ruedas\n",
      "Me desplazo utilizando cuatro ruedas\n",
      "Me desplazo utilizando seis ruedas\n"
     ]
    }
   ],
   "source": [
    "class Coche():\n",
    "    \n",
    "    def desplazamiento(self):\n",
    "        print(\"Me desplazo utilizando cuatro ruedas\")\n",
    "\n",
    "        \n",
    "class Moto():\n",
    "    \n",
    "    def desplazamiento(self):\n",
    "        print(\"Me desplazo utilizando dos ruedas\")\n",
    "\n",
    "        \n",
    "class Camion:\n",
    "    \n",
    "    def desplazamiento(self):\n",
    "        print(\"Me desplazo utilizando seis ruedas\")\n",
    "\n",
    "        \n",
    "miVehiculo=Moto()\n",
    "miVehiculo.desplazamiento()\n",
    "\n",
    "miVehiculo2=Coche()\n",
    "miVehiculo2.desplazamiento()\n",
    "\n",
    "miVehiculo3=Camion()\n",
    "miVehiculo3.desplazamiento()\n",
    "        "
   ]
  },
  {
   "cell_type": "code",
   "execution_count": 2,
   "metadata": {},
   "outputs": [
    {
     "name": "stdout",
     "output_type": "stream",
     "text": [
      "Me desplazo utilizando seis ruedas\n"
     ]
    }
   ],
   "source": [
    "class Coche():\n",
    "    \n",
    "    def desplazamiento(self):\n",
    "        print(\"Me desplazo utilizando cuatro ruedas\")\n",
    "\n",
    "        \n",
    "        \n",
    "class Moto():\n",
    "    \n",
    "    def desplazamiento(self):\n",
    "        print(\"Me desplazo utilizando dos ruedas\")\n",
    "\n",
    "        \n",
    "        \n",
    "class Camion:\n",
    "    \n",
    "    def desplazamiento(self):\n",
    "        print(\"Me desplazo utilizando seis ruedas\")\n",
    "\n",
    "\n",
    "        \n",
    "def desplazamientoVehiculo(vehiculo):\n",
    "    vehiculo.desplazamiento()\n",
    "\n",
    "    \n",
    "    \n",
    "miVehiculo=Camion()\n",
    "desplazamientoVehiculo(miVehiculo)\n"
   ]
  },
  {
   "cell_type": "code",
   "execution_count": 3,
   "metadata": {},
   "outputs": [
    {
     "name": "stdout",
     "output_type": "stream",
     "text": [
      "Me desplazo utilizando cuatro ruedas\n"
     ]
    }
   ],
   "source": [
    "class Coche():\n",
    "    \n",
    "    def desplazamiento(self):\n",
    "        print(\"Me desplazo utilizando cuatro ruedas\")\n",
    "\n",
    "        \n",
    "        \n",
    "class Moto():\n",
    "    \n",
    "    def desplazamiento(self):\n",
    "        print(\"Me desplazo utilizando dos ruedas\")\n",
    "\n",
    "        \n",
    "        \n",
    "class Camion:\n",
    "    \n",
    "    def desplazamiento(self):\n",
    "        print(\"Me desplazo utilizando seis ruedas\")\n",
    "\n",
    "\n",
    "        \n",
    "def desplazamientoVehiculo(vehiculo):\n",
    "    vehiculo.desplazamiento()\n",
    "    \n",
    "\n",
    "    \n",
    "miVehiculo=Coche()\n",
    "desplazamientoVehiculo(miVehiculo)\n"
   ]
  },
  {
   "cell_type": "code",
   "execution_count": 4,
   "metadata": {},
   "outputs": [
    {
     "name": "stdout",
     "output_type": "stream",
     "text": [
      "Me desplazo utilizando dos ruedas\n"
     ]
    }
   ],
   "source": [
    "class Coche():\n",
    "    \n",
    "    def desplazamiento(self):\n",
    "        print(\"Me desplazo utilizando cuatro ruedas\")\n",
    "\n",
    "        \n",
    "        \n",
    "class Moto():\n",
    "    \n",
    "    def desplazamiento(self):\n",
    "        print(\"Me desplazo utilizando dos ruedas\")\n",
    "\n",
    "        \n",
    "        \n",
    "class Camion:\n",
    "    \n",
    "    def desplazamiento(self):\n",
    "        print(\"Me desplazo utilizando seis ruedas\")\n",
    "\n",
    "\n",
    "        \n",
    "def desplazamientoVehiculo(vehiculo):\n",
    "    vehiculo.desplazamiento()\n",
    "    \n",
    "\n",
    "    \n",
    "miVehiculo=Moto()\n",
    "desplazamientoVehiculo(miVehiculo)\n"
   ]
  },
  {
   "cell_type": "code",
   "execution_count": 5,
   "metadata": {},
   "outputs": [
    {
     "name": "stdout",
     "output_type": "stream",
     "text": [
      "Me desplazo utilizando seis ruedas\n",
      "Me desplazo utilizando cuatro ruedas\n",
      "Me desplazo utilizando dos ruedas\n"
     ]
    }
   ],
   "source": [
    "class Coche():\n",
    "    \n",
    "    def desplazamiento(self):\n",
    "        print(\"Me desplazo utilizando cuatro ruedas\")\n",
    "\n",
    "        \n",
    "        \n",
    "class Moto():\n",
    "    \n",
    "    def desplazamiento(self):\n",
    "        print(\"Me desplazo utilizando dos ruedas\")\n",
    "\n",
    "        \n",
    "        \n",
    "class Camion:\n",
    "    \n",
    "    def desplazamiento(self):\n",
    "        print(\"Me desplazo utilizando seis ruedas\")\n",
    "\n",
    "\n",
    "        \n",
    "def desplazamientoVehiculo(vehiculo):\n",
    "    vehiculo.desplazamiento()\n",
    "    \n",
    "\n",
    "    \n",
    "miVehiculo=Camion()\n",
    "desplazamientoVehiculo(miVehiculo)\n",
    "miVehiculo=Coche()\n",
    "desplazamientoVehiculo(miVehiculo)    \n",
    "miVehiculo=Moto()\n",
    "desplazamientoVehiculo(miVehiculo)"
   ]
  },
  {
   "cell_type": "code",
   "execution_count": null,
   "metadata": {},
   "outputs": [],
   "source": []
  },
  {
   "cell_type": "code",
   "execution_count": null,
   "metadata": {},
   "outputs": [],
   "source": []
  }
 ],
 "metadata": {
  "kernelspec": {
   "display_name": "Python 3",
   "language": "python",
   "name": "python3"
  },
  "language_info": {
   "codemirror_mode": {
    "name": "ipython",
    "version": 3
   },
   "file_extension": ".py",
   "mimetype": "text/x-python",
   "name": "python",
   "nbconvert_exporter": "python",
   "pygments_lexer": "ipython3",
   "version": "3.7.7"
  }
 },
 "nbformat": 4,
 "nbformat_minor": 2
}

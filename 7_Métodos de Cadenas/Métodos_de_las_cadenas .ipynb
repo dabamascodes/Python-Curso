{
 "cells": [
  {
   "cell_type": "markdown",
   "metadata": {},
   "source": [
    "Métodos de las cadenas:\n",
    "\n",
    "Éstos son los métodos de cadena que soportan tanto las cadenas de caracteres de 8 bit como los objetos Unicode:\n",
    "\n",
    "capitalize ()\n",
    "Devuelve una copia de la cadena con el primer carácter en mayúscula.\n",
    "\n",
    "center (width)\n",
    "Devuelve la cadena centrada en una cadena de longitud width. Se rellena con espacios.\n",
    "\n",
    "count (sub[, start[, end]])\n",
    "Devuelve cuántas veces aparece sub en la cadena S[start:end]. Los argumentos opcionales start y end se interpretan según la notación de corte.\n",
    "\n",
    "encode ([encoding[,errors]])\n",
    "Devuelve una versión codoficada de la cadena. La codificación predeterminada es la codificación predeterminada de cadenas. \n",
    "El parámetro opcional errors fija el esquema de gestión de errores. Su valor predeterminado es 'strict', \n",
    "que indica que los errores de codificación harán saltar ValueError. Otros valores posibles son 'ignore' (ignorar) y 'replace' (reemplazar).\n",
    "\n",
    "endswith (suffix[, start[, end]])\n",
    "Devuelve verdadero si la cadena finaliza con el sufijo suffix especificado, en caso contrario falso. \n",
    "Si se da valor al parámetro opcional start, la comprobación empieza en esa posición. \n",
    "Si se da valor al parámetro opcional end, la comprobación finaliza en esa posición.\n",
    "\n",
    "expandtabs ([tabsize])\n",
    "Devuelve una copia de la cadena con todos los tabuladores expandidos a espacios. Si no se indica el paso de tabulación tabsize se asume 8.\n",
    "\n",
    "find (sub[, start[, end]])\n",
    "Devuelve el menor índice de la cadena para el que sub se encuentre, de tal modo que sub quede contenido en el rango [start, end). \n",
    "Los argumentos opcionales start y end se interpretan según la notación de corte. Devuelve -1 si no se halla sub.\n",
    "\n",
    "index (sub[, start[, end]])\n",
    "Como find(), pero lanza ValueError si no se encuentra la subcadena.\n",
    "\n",
    "isalnum ()\n",
    "Devuelve verdadero si todos los caracteres de la cadena son alfanuméricos y hay al menos un carácter. En caso contrario, devuelve falso.\n",
    "\n",
    "isalpha ()\n",
    "Devuelve verdadero si todos los caracteres de la cadena son alfabéticos y hay al menos un carácter. En caso contrario, devuelve falso.\n",
    "\n",
    "isdigit ()\n",
    "Devuelve verdadero si todos los caracteres de la cadena son dígitos y hay al menos un carácter. En caso contrario, devuelve falso.\n",
    "\n",
    "islower ()\n",
    "Devuelve verdadero si todos los caracteres alfabéticos de la cadena están en minúscula y hay al menos un carácter susceptible de estar en minúsculas. \n",
    "En caso contrario, devuelve falso.\n",
    "\n",
    "isspace ()\n",
    "Devuelve verdadero si todos los caracteres de la cadena son espacio en blanco (lo que incluye tabuladores, espacios y retornos de carro) \n",
    "y hay al menos un carácter. En caso contrario, devuelve falso.\n",
    "\n",
    "istitle ()\n",
    "Devuelve verdadero la cadena tiene forma de título (anglosajón) y hay al menos un carácter. En caso contrario, devuelve falso. \n",
    "Se considera que una cadena tiene formato de título si todas sus palabras están en minúsculas a excepción de la primera letra de cada una, \n",
    "que debe ser mayúscula.\n",
    "\n",
    "isupper ()\n",
    "Devuelve verdadero si todos los caracteres alfabéticos de la cadena están en mayúscula y hay al menos un carácter susceptible de estar en mayúsculas. \n",
    "En caso contrario, devuelve falso.\n",
    "\n",
    "join (seq)\n",
    "Devuelve una cadena formada ppor la concatenación de todos los elementos de la secuencia seq. \n",
    "Los elementos se separan por la cadena que proporciona el método. Se lanza TypeError si alguno de los elementos no es una cadena.\n",
    "\n",
    "ljust (width)\n",
    "Devuelve la cadena justificada a la izquierda en una cadena de longitud width. Se rellena la cadena con espacios. \n",
    "Se devuelve la cadena original si width es menor que len(s).\n",
    "\n",
    "lower ()\n",
    "Devuelve una copia de la cadena convertida en minúsculas.\n",
    "\n",
    "lstrip ()\n",
    "Devuelve una copia de la cadena con el espacio inicial eliminado.\n",
    "\n",
    "replace (old, new[, maxsplit])\n",
    "Devuelve una copia de la cadena en la que se han sustituido todas las apariciones de old por new. Si se proporciona el argumento opcional maxsplit, \n",
    "sólo se sustituyen las primeras maxsplit apariciones.\n",
    "\n",
    "rfind (sub [,start [,end]])\n",
    "Devuelve el índice máximo de la cadena para el que se encuentra la subcadena sub, tal que sub está contenido en cadena[start,end]. \n",
    "Los argumentos opcionales start y end se interpretan según la notación de corte. Devuelve -1 si no se encuentra sub.\n",
    "\n",
    "rindex (sub[, start[, end]])\n",
    "Como rfind() pero lanza ValueError si no se encuentra sub.\n",
    "\n",
    "rjust (width)\n",
    "Devuelve la cadena justificada a la derecha en una cadena de longitud width. Se rellena la cadena con espacios. \n",
    "Se devuelve la cadena original si width es menor que len(s).\n",
    "\n",
    "rstrip ()\n",
    "Devuelve una copia de la cadena con el espacio al final suprimido.\n",
    "\n",
    "split ([sep [,maxsplit]])\n",
    "Devuelve una lista de las palabras de la cadena, usando sep como delimitador de palabras. Si se indica maxsplit, \n",
    "se devolverán como mucho maxsplit valores (el último elemento contendrá el resto de la cadena). \n",
    "Si no se especifica sep o es None, cualquier espacio en blanco sirve de separador.\n",
    "\n",
    "splitlines ([keepends])\n",
    "Devuelve una lista de las líneas de la cadena, dividiendo por límites de línea. No se incluyen los caracteres limitadores en la lista resultante \n",
    "salvo que se proporcione un valor verdadero en keepends.\n",
    "\n",
    "startswith (prefix[, start[, end]])\n",
    "Devuelve verdadero si la cadena comienza por prefix, en caso contrario, devuelve falso. \n",
    "Si se proporciona el parámetro opcional start, se comprueba la cadena que empieza en esa posición. \n",
    "Si se proporciona el parámetro opcional end, se comprueba la cadena hasta esa posición.\n",
    "\n",
    "strip ()\n",
    "Devuelve una copia de la cadena con el espacio inicial y final suprimido.\n",
    "\n",
    "swapcase ()\n",
    "Devuelve una copia de la cadena con las mayúsculas pasadas a minúsculas y viceversa.\n",
    "\n",
    "title ()\n",
    "Devuelve una versión con formato título, es decir, con todas las palabras en minúsculas excepto la primera letra, que va en mayúsculas.\n",
    "\n",
    "translate (table[, deletechars])\n",
    "Devuelve una copia de la cadena donde se han eliminado todos los caracteres de deletechars y se han traducido los caracteres restantes \n",
    "según la tabla de correspondencia especificada por la cadena table, que debe ser una cadena de longitud 256.\n",
    "\n",
    "upper ()\n",
    "Devuelve una copia de la cadena en mayúsculas."
   ]
  },
  {
   "cell_type": "code",
   "execution_count": 1,
   "metadata": {},
   "outputs": [
    {
     "name": "stdout",
     "output_type": "stream",
     "text": [
      "Introduce tu nombre de Usuario: Daniel\n",
      "El nombre es:  DANIEL\n"
     ]
    }
   ],
   "source": [
    "nombreUsuario=input(\"Introduce tu nombre de Usuario: \")\n",
    "print(\"El nombre es: \", nombreUsuario.upper())"
   ]
  },
  {
   "cell_type": "code",
   "execution_count": 2,
   "metadata": {},
   "outputs": [
    {
     "name": "stdout",
     "output_type": "stream",
     "text": [
      "Introduce tu nombre de Usuario: DANIEL\n",
      "El nombre es:  daniel\n"
     ]
    }
   ],
   "source": [
    "nombreUsuario=input(\"Introduce tu nombre de Usuario: \")\n",
    "print(\"El nombre es: \", nombreUsuario.lower())"
   ]
  },
  {
   "cell_type": "code",
   "execution_count": 3,
   "metadata": {},
   "outputs": [
    {
     "name": "stdout",
     "output_type": "stream",
     "text": [
      "Introduce tu nombre de Usuario: daniel\n",
      "El nombre es:  Daniel\n"
     ]
    }
   ],
   "source": [
    "nombreUsuario=input(\"Introduce tu nombre de Usuario: \")\n",
    "print(\"El nombre es: \", nombreUsuario.capitalize())"
   ]
  },
  {
   "cell_type": "code",
   "execution_count": 5,
   "metadata": {},
   "outputs": [
    {
     "name": "stdout",
     "output_type": "stream",
     "text": [
      "Introduce la edad: 7\n",
      "True\n"
     ]
    }
   ],
   "source": [
    "edad=input(\"Introduce la edad: \")\n",
    "print(edad.isdigit())"
   ]
  },
  {
   "cell_type": "code",
   "execution_count": 6,
   "metadata": {},
   "outputs": [
    {
     "name": "stdout",
     "output_type": "stream",
     "text": [
      "Introduce la edad: sd\n",
      "Por favor, introduce un valor númerico\n",
      "Introduce la edad: df\n",
      "Por favor, introduce un valor númerico\n",
      "Introduce la edad: df\n",
      "Por favor, introduce un valor númerico\n",
      "Introduce la edad: 5\n",
      "No puede pasar\n"
     ]
    }
   ],
   "source": [
    "edad=input(\"Introduce la edad: \")\n",
    "\n",
    "while(edad.isdigit()==False):\n",
    "    print(\"Por favor, introduce un valor númerico\")\n",
    "    \n",
    "    edad=input(\"Introduce la edad: \")\n",
    "\n",
    "if (int(edad)<18):\n",
    "    print(\"No puede pasar\")\n",
    "else:\n",
    "    print(\"Puedes pasar\")"
   ]
  },
  {
   "cell_type": "code",
   "execution_count": null,
   "metadata": {},
   "outputs": [],
   "source": []
  }
 ],
 "metadata": {
  "kernelspec": {
   "display_name": "Python 3",
   "language": "python",
   "name": "python3"
  },
  "language_info": {
   "codemirror_mode": {
    "name": "ipython",
    "version": 3
   },
   "file_extension": ".py",
   "mimetype": "text/x-python",
   "name": "python",
   "nbconvert_exporter": "python",
   "pygments_lexer": "ipython3",
   "version": "3.7.7"
  }
 },
 "nbformat": 4,
 "nbformat_minor": 4
}
